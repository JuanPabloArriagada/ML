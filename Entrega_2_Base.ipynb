{
  "nbformat": 4,
  "nbformat_minor": 0,
  "metadata": {
    "colab": {
      "provenance": []
    },
    "kernelspec": {
      "name": "python3",
      "display_name": "Python 3"
    },
    "language_info": {
      "name": "python"
    }
  },
  "cells": [
    {
      "cell_type": "markdown",
      "source": [
        "# Evaluación 2\n",
        "\n",
        "---\n",
        "\n",
        "\n",
        "\n",
        "**Autor:**\n",
        "\n",
        "**Correo Electrónico:**\n",
        "\n",
        "**Fecha de Creación:** Junio 2025\n",
        "\n",
        "**Versión:** 1.0  \n",
        "\n",
        "\n",
        "\n",
        "---\n",
        "\n",
        "## Descripción\n",
        "\n",
        "Este notebook corresponde al desarrollo de la entrega 2 de la asignatura electiva de Machine Learning de DuocUC - Sede Concepción\n",
        "\n",
        "---\n",
        "\n",
        "## Requisitos de Software\n",
        "\n",
        "Este notebook fue desarrollado con Python 3.9. A continuación se listan las bibliotecas necesarias:\n",
        "\n",
        "- numpy (2.0.2)\n",
        "- matplotlib (3.10.0)\n",
        "- pandas (2.2.2)\n",
        "- seaborn (0.13.2)\n",
        "- sklearn (1.6.1)\n",
        "\n",
        "Para verificar la versión instalada ejecutar usando el siguiente comando, usando la librería de la cual quieres saber la versión:\n",
        "\n",
        "```bash\n",
        "import pandas as pd\n",
        "print(pd.__version__)\n",
        "````"
      ],
      "metadata": {
        "id": "oxUadTyJqi8N"
      }
    },
    {
      "cell_type": "code",
      "source": [
        "!wget https://www.dropbox.com/s/h160fwrthtb4gte/Base_Clientes_Monopoly.csv"
      ],
      "metadata": {
        "colab": {
          "base_uri": "https://localhost:8080/"
        },
        "id": "2NBlEnTdqjSW",
        "outputId": "5e32479d-1088-4a96-9e3b-c40bea180727"
      },
      "execution_count": 312,
      "outputs": [
        {
          "output_type": "stream",
          "name": "stdout",
          "text": [
            "--2025-06-18 19:50:46--  https://www.dropbox.com/s/h160fwrthtb4gte/Base_Clientes_Monopoly.csv\n",
            "Resolving www.dropbox.com (www.dropbox.com)... 162.125.1.18, 2620:100:6016:18::a27d:112\n",
            "Connecting to www.dropbox.com (www.dropbox.com)|162.125.1.18|:443... connected.\n",
            "HTTP request sent, awaiting response... 302 Found\n",
            "Location: https://www.dropbox.com/scl/fi/mz5u7ddatqayntt2crleq/Base_Clientes_Monopoly.csv?rlkey=nyn3hzxxby855id3gxxlbdev6 [following]\n",
            "--2025-06-18 19:50:46--  https://www.dropbox.com/scl/fi/mz5u7ddatqayntt2crleq/Base_Clientes_Monopoly.csv?rlkey=nyn3hzxxby855id3gxxlbdev6\n",
            "Reusing existing connection to www.dropbox.com:443.\n",
            "HTTP request sent, awaiting response... 302 Found\n",
            "Location: https://uc10a1a2aae2cecc809c25b7abe9.dl.dropboxusercontent.com/cd/0/inline/Cr3MMgZrJx7wlpwR7l-v35WBWWvFJRKHLjcw_n_Ku9_RkY9jWP6Psgvr70SscTSdl2slkza8CSHhKlh0D0XwWvtC3FiUxmI2Gh0aRc9o-ehkNXsGPM6NLW4knUFh1l_Fk47AyiB_1CQ4pfIeYuzYJD63/file# [following]\n",
            "--2025-06-18 19:50:46--  https://uc10a1a2aae2cecc809c25b7abe9.dl.dropboxusercontent.com/cd/0/inline/Cr3MMgZrJx7wlpwR7l-v35WBWWvFJRKHLjcw_n_Ku9_RkY9jWP6Psgvr70SscTSdl2slkza8CSHhKlh0D0XwWvtC3FiUxmI2Gh0aRc9o-ehkNXsGPM6NLW4knUFh1l_Fk47AyiB_1CQ4pfIeYuzYJD63/file\n",
            "Resolving uc10a1a2aae2cecc809c25b7abe9.dl.dropboxusercontent.com (uc10a1a2aae2cecc809c25b7abe9.dl.dropboxusercontent.com)... 162.125.1.15, 2620:100:6016:15::a27d:10f\n",
            "Connecting to uc10a1a2aae2cecc809c25b7abe9.dl.dropboxusercontent.com (uc10a1a2aae2cecc809c25b7abe9.dl.dropboxusercontent.com)|162.125.1.15|:443... connected.\n",
            "HTTP request sent, awaiting response... 200 OK\n",
            "Length: 87460453 (83M) [text/plain]\n",
            "Saving to: ‘Base_Clientes_Monopoly.csv.8’\n",
            "\n",
            "Base_Clientes_Monop 100%[===================>]  83.41M   178MB/s    in 0.5s    \n",
            "\n",
            "2025-06-18 19:50:47 (178 MB/s) - ‘Base_Clientes_Monopoly.csv.8’ saved [87460453/87460453]\n",
            "\n"
          ]
        }
      ]
    },
    {
      "cell_type": "code",
      "source": [
        "pip install https://github.com/pandas-profiling/pandas-profiling/archive/master.zip"
      ],
      "metadata": {
        "colab": {
          "base_uri": "https://localhost:8080/"
        },
        "id": "rDVFb1z_qknG",
        "outputId": "915058f8-88d7-49e6-84da-61eb4afe3574"
      },
      "execution_count": 313,
      "outputs": [
        {
          "output_type": "stream",
          "name": "stdout",
          "text": [
            "Collecting https://github.com/pandas-profiling/pandas-profiling/archive/master.zip\n",
            "  Using cached https://github.com/pandas-profiling/pandas-profiling/archive/master.zip\n",
            "  Installing build dependencies ... \u001b[?25l\u001b[?25hdone\n",
            "  Getting requirements to build wheel ... \u001b[?25l\u001b[?25hdone\n",
            "  Preparing metadata (pyproject.toml) ... \u001b[?25l\u001b[?25hdone\n",
            "Requirement already satisfied: scipy<1.16,>=1.4.1 in /usr/local/lib/python3.11/dist-packages (from ydata-profiling==0.0.dev0) (1.15.3)\n",
            "Requirement already satisfied: pandas!=1.4.0,<3.0,>1.1 in /usr/local/lib/python3.11/dist-packages (from ydata-profiling==0.0.dev0) (2.2.2)\n",
            "Requirement already satisfied: matplotlib<=3.10,>=3.5 in /usr/local/lib/python3.11/dist-packages (from ydata-profiling==0.0.dev0) (3.10.0)\n",
            "Requirement already satisfied: pydantic>=2 in /usr/local/lib/python3.11/dist-packages (from ydata-profiling==0.0.dev0) (2.11.5)\n",
            "Requirement already satisfied: PyYAML<6.1,>=5.0.0 in /usr/local/lib/python3.11/dist-packages (from ydata-profiling==0.0.dev0) (6.0.2)\n",
            "Requirement already satisfied: jinja2<3.2,>=2.11.1 in /usr/local/lib/python3.11/dist-packages (from ydata-profiling==0.0.dev0) (3.1.6)\n",
            "Requirement already satisfied: visions<0.8.2,>=0.7.5 in /usr/local/lib/python3.11/dist-packages (from visions[type_image_path]<0.8.2,>=0.7.5->ydata-profiling==0.0.dev0) (0.8.1)\n",
            "Requirement already satisfied: numpy<2.2,>=1.16.0 in /usr/local/lib/python3.11/dist-packages (from ydata-profiling==0.0.dev0) (2.0.2)\n",
            "Requirement already satisfied: htmlmin==0.1.12 in /usr/local/lib/python3.11/dist-packages (from ydata-profiling==0.0.dev0) (0.1.12)\n",
            "Requirement already satisfied: phik<0.13,>=0.11.1 in /usr/local/lib/python3.11/dist-packages (from ydata-profiling==0.0.dev0) (0.12.4)\n",
            "Requirement already satisfied: requests<3,>=2.24.0 in /usr/local/lib/python3.11/dist-packages (from ydata-profiling==0.0.dev0) (2.32.3)\n",
            "Requirement already satisfied: tqdm<5,>=4.48.2 in /usr/local/lib/python3.11/dist-packages (from ydata-profiling==0.0.dev0) (4.67.1)\n",
            "Requirement already satisfied: seaborn<0.14,>=0.10.1 in /usr/local/lib/python3.11/dist-packages (from ydata-profiling==0.0.dev0) (0.13.2)\n",
            "Requirement already satisfied: multimethod<2,>=1.4 in /usr/local/lib/python3.11/dist-packages (from ydata-profiling==0.0.dev0) (1.12)\n",
            "Requirement already satisfied: statsmodels<1,>=0.13.2 in /usr/local/lib/python3.11/dist-packages (from ydata-profiling==0.0.dev0) (0.14.4)\n",
            "Requirement already satisfied: typeguard<5,>=3 in /usr/local/lib/python3.11/dist-packages (from ydata-profiling==0.0.dev0) (4.4.3)\n",
            "Requirement already satisfied: imagehash==4.3.1 in /usr/local/lib/python3.11/dist-packages (from ydata-profiling==0.0.dev0) (4.3.1)\n",
            "Requirement already satisfied: wordcloud>=1.9.3 in /usr/local/lib/python3.11/dist-packages (from ydata-profiling==0.0.dev0) (1.9.4)\n",
            "Requirement already satisfied: dacite>=1.8 in /usr/local/lib/python3.11/dist-packages (from ydata-profiling==0.0.dev0) (1.9.2)\n",
            "Requirement already satisfied: numba<=0.61,>=0.56.0 in /usr/local/lib/python3.11/dist-packages (from ydata-profiling==0.0.dev0) (0.60.0)\n",
            "Requirement already satisfied: PyWavelets in /usr/local/lib/python3.11/dist-packages (from imagehash==4.3.1->ydata-profiling==0.0.dev0) (1.8.0)\n",
            "Requirement already satisfied: pillow in /usr/local/lib/python3.11/dist-packages (from imagehash==4.3.1->ydata-profiling==0.0.dev0) (11.2.1)\n",
            "Requirement already satisfied: MarkupSafe>=2.0 in /usr/local/lib/python3.11/dist-packages (from jinja2<3.2,>=2.11.1->ydata-profiling==0.0.dev0) (3.0.2)\n",
            "Requirement already satisfied: contourpy>=1.0.1 in /usr/local/lib/python3.11/dist-packages (from matplotlib<=3.10,>=3.5->ydata-profiling==0.0.dev0) (1.3.2)\n",
            "Requirement already satisfied: cycler>=0.10 in /usr/local/lib/python3.11/dist-packages (from matplotlib<=3.10,>=3.5->ydata-profiling==0.0.dev0) (0.12.1)\n",
            "Requirement already satisfied: fonttools>=4.22.0 in /usr/local/lib/python3.11/dist-packages (from matplotlib<=3.10,>=3.5->ydata-profiling==0.0.dev0) (4.58.2)\n",
            "Requirement already satisfied: kiwisolver>=1.3.1 in /usr/local/lib/python3.11/dist-packages (from matplotlib<=3.10,>=3.5->ydata-profiling==0.0.dev0) (1.4.8)\n",
            "Requirement already satisfied: packaging>=20.0 in /usr/local/lib/python3.11/dist-packages (from matplotlib<=3.10,>=3.5->ydata-profiling==0.0.dev0) (24.2)\n",
            "Requirement already satisfied: pyparsing>=2.3.1 in /usr/local/lib/python3.11/dist-packages (from matplotlib<=3.10,>=3.5->ydata-profiling==0.0.dev0) (3.2.3)\n",
            "Requirement already satisfied: python-dateutil>=2.7 in /usr/local/lib/python3.11/dist-packages (from matplotlib<=3.10,>=3.5->ydata-profiling==0.0.dev0) (2.9.0.post0)\n",
            "Requirement already satisfied: llvmlite<0.44,>=0.43.0dev0 in /usr/local/lib/python3.11/dist-packages (from numba<=0.61,>=0.56.0->ydata-profiling==0.0.dev0) (0.43.0)\n",
            "Requirement already satisfied: pytz>=2020.1 in /usr/local/lib/python3.11/dist-packages (from pandas!=1.4.0,<3.0,>1.1->ydata-profiling==0.0.dev0) (2025.2)\n",
            "Requirement already satisfied: tzdata>=2022.7 in /usr/local/lib/python3.11/dist-packages (from pandas!=1.4.0,<3.0,>1.1->ydata-profiling==0.0.dev0) (2025.2)\n",
            "Requirement already satisfied: joblib>=0.14.1 in /usr/local/lib/python3.11/dist-packages (from phik<0.13,>=0.11.1->ydata-profiling==0.0.dev0) (1.5.1)\n",
            "Requirement already satisfied: annotated-types>=0.6.0 in /usr/local/lib/python3.11/dist-packages (from pydantic>=2->ydata-profiling==0.0.dev0) (0.7.0)\n",
            "Requirement already satisfied: pydantic-core==2.33.2 in /usr/local/lib/python3.11/dist-packages (from pydantic>=2->ydata-profiling==0.0.dev0) (2.33.2)\n",
            "Requirement already satisfied: typing-extensions>=4.12.2 in /usr/local/lib/python3.11/dist-packages (from pydantic>=2->ydata-profiling==0.0.dev0) (4.14.0)\n",
            "Requirement already satisfied: typing-inspection>=0.4.0 in /usr/local/lib/python3.11/dist-packages (from pydantic>=2->ydata-profiling==0.0.dev0) (0.4.1)\n",
            "Requirement already satisfied: charset-normalizer<4,>=2 in /usr/local/lib/python3.11/dist-packages (from requests<3,>=2.24.0->ydata-profiling==0.0.dev0) (3.4.2)\n",
            "Requirement already satisfied: idna<4,>=2.5 in /usr/local/lib/python3.11/dist-packages (from requests<3,>=2.24.0->ydata-profiling==0.0.dev0) (3.10)\n",
            "Requirement already satisfied: urllib3<3,>=1.21.1 in /usr/local/lib/python3.11/dist-packages (from requests<3,>=2.24.0->ydata-profiling==0.0.dev0) (2.4.0)\n",
            "Requirement already satisfied: certifi>=2017.4.17 in /usr/local/lib/python3.11/dist-packages (from requests<3,>=2.24.0->ydata-profiling==0.0.dev0) (2025.4.26)\n",
            "Requirement already satisfied: patsy>=0.5.6 in /usr/local/lib/python3.11/dist-packages (from statsmodels<1,>=0.13.2->ydata-profiling==0.0.dev0) (1.0.1)\n",
            "Requirement already satisfied: attrs>=19.3.0 in /usr/local/lib/python3.11/dist-packages (from visions<0.8.2,>=0.7.5->visions[type_image_path]<0.8.2,>=0.7.5->ydata-profiling==0.0.dev0) (25.3.0)\n",
            "Requirement already satisfied: networkx>=2.4 in /usr/local/lib/python3.11/dist-packages (from visions<0.8.2,>=0.7.5->visions[type_image_path]<0.8.2,>=0.7.5->ydata-profiling==0.0.dev0) (3.5)\n",
            "Requirement already satisfied: puremagic in /usr/local/lib/python3.11/dist-packages (from visions<0.8.2,>=0.7.5->visions[type_image_path]<0.8.2,>=0.7.5->ydata-profiling==0.0.dev0) (1.29)\n",
            "Requirement already satisfied: six>=1.5 in /usr/local/lib/python3.11/dist-packages (from python-dateutil>=2.7->matplotlib<=3.10,>=3.5->ydata-profiling==0.0.dev0) (1.17.0)\n"
          ]
        }
      ]
    },
    {
      "cell_type": "code",
      "source": [
        "import pandas as pd\n",
        "import numpy as np\n",
        "\n",
        "import matplotlib.pyplot as plt\n",
        "import seaborn as sns\n",
        "\n",
        "#Fase 3 escalar\n",
        "from sklearn.preprocessing import StandardScaler\n",
        "\n",
        "#Fase 4 modelos\n",
        "from sklearn.model_selection import train_test_split, cross_val_score, cross_validate\n",
        "\n",
        "#Fase 4 algoritmo 1\n",
        "from sklearn.preprocessing import PolynomialFeatures\n",
        "from sklearn.linear_model import LinearRegression\n",
        "\n",
        "#Fase 4 predicciones modelo\n",
        "from sklearn.metrics import mean_squared_error, r2_score\n",
        "\n",
        "#Fase 4 Decision Tree\n",
        "from sklearn.tree import DecisionTreeRegressor\n",
        "\n",
        "#Fase 4 modelo de clasificacion\n",
        "from sklearn.ensemble import RandomForestClassifier\n",
        "from sklearn.tree import DecisionTreeClassifier\n",
        "from sklearn.metrics import confusion_matrix, ConfusionMatrixDisplay\n",
        "from sklearn.metrics import accuracy_score\n",
        "\n",
        "#Fase 4 SVM\n",
        "from sklearn.svm import SVC\n",
        "\n",
        "#Fase 4 KNN\n",
        "from sklearn.neighbors import KNeighborsClassifier"
      ],
      "metadata": {
        "id": "V6ERFD-Pquh0"
      },
      "execution_count": 364,
      "outputs": []
    },
    {
      "cell_type": "code",
      "source": [
        "data = pd.read_csv(\"Base_Clientes_Monopoly.csv\", sep=\";\", decimal=\",\", low_memory = False)\n",
        "data.head(20)"
      ],
      "metadata": {
        "colab": {
          "base_uri": "https://localhost:8080/",
          "height": 706
        },
        "id": "rmxXhjZsqxAH",
        "outputId": "ea40da41-490a-4737-c11a-3aa8bfc7df1a"
      },
      "execution_count": 315,
      "outputs": [
        {
          "output_type": "execute_result",
          "data": {
            "text/plain": [
              "    Id  Subsegmento Sexo  Region  Edad      Renta  Antiguedad  Internauta  \\\n",
              "0    1          160    M    13.0    43        NaN         130           1   \n",
              "1    2          160    H    13.0    46   143640.0          69           1   \n",
              "2    3          170    H    13.0    45   929106.0          24           1   \n",
              "3    4          151    H    13.0    46   172447.0         134           0   \n",
              "4    5          170    H    13.0    46   805250.0         116           0   \n",
              "5    6          170    H    13.0    47   707664.0          67           1   \n",
              "6    7          811    H    13.0    48  1022833.0          21           1   \n",
              "7    8          170    H    13.0    46        NaN          69           0   \n",
              "8    9          170    H    13.0    49  1171066.0          33           0   \n",
              "9   10          170    M    13.0    44   964387.0          23           1   \n",
              "10  11          170    M    13.0    38        NaN          38           0   \n",
              "11  12          151    M     9.0    47        NaN          59           1   \n",
              "12  13          170    H    13.0    36  1263238.0          80           1   \n",
              "13  14          170    M    10.0    33  1456715.0          29           0   \n",
              "14  15          160    H    13.0    48   592541.0          13           0   \n",
              "15  16          170    H    13.0    46        NaN           7           1   \n",
              "16  17          170    M    13.0    51   752396.0          22           1   \n",
              "17  18          170    H    13.0    37   844830.0          72           1   \n",
              "18  19          170    M    13.0    47   176712.0          94           1   \n",
              "19  20          160    M     8.0    46   210298.0          43           0   \n",
              "\n",
              "    Adicional  Dualidad  ...  ColMx_T01  PagoNac_T01  PagoInt_T01  \\\n",
              "0           1         0  ...       0.00        33000          0.0   \n",
              "1           0         0  ...       0.00       300000          0.0   \n",
              "2           1         0  ...       0.00       216676          0.0   \n",
              "3           1         0  ...       0.00        60000          0.0   \n",
              "4           1         1  ...       0.00       272925          0.0   \n",
              "5           1         0  ...       0.00        35800          0.0   \n",
              "6           0         1  ...       0.00         9391          0.0   \n",
              "7           1         1  ...       0.00         6000          0.0   \n",
              "8           0         0  ...       0.00        60000          0.0   \n",
              "9           1         0  ...       0.00        92583          0.0   \n",
              "10          0         0  ...  143358.35            0          0.0   \n",
              "11          0         0  ...       0.00            0          0.0   \n",
              "12          0         0  ...       0.00       139884          0.0   \n",
              "13          0         0  ...       0.00            0          0.0   \n",
              "14          0         0  ...       0.00        28000          0.0   \n",
              "15          0         1  ...       0.00        37782          0.0   \n",
              "16          0         1  ...       0.00        96367          0.0   \n",
              "17          0         0  ...       0.00            0          0.0   \n",
              "18          0         0  ...       0.00            0          0.0   \n",
              "19          1         1  ...       0.00        46000          0.0   \n",
              "\n",
              "    EeccNac_T01  EeccInt_T01  UsoL1_T01  UsoL2_T01  UsoLI_T01  IndRev_T01  \\\n",
              "0     1099866.0         0.00  1099866.0      15080       0.00           R   \n",
              "1      214592.0         0.00   214592.0      83596       0.00           R   \n",
              "2           0.0         0.00     7400.0          0       0.00           T   \n",
              "3      272762.0         0.00   272762.0      10591       0.00           R   \n",
              "4      249562.0         0.00    75339.0     377782       0.00           R   \n",
              "5       35800.0         0.00        0.0      51197       0.00           R   \n",
              "6        8818.0         0.00     8818.0          0       0.00           T   \n",
              "7      283520.0         0.00   283520.0          0       0.00           R   \n",
              "8      507629.0         0.00   507629.0          0       0.00           R   \n",
              "9       65487.0         0.00    65487.0      12084       0.00           R   \n",
              "10     438391.0       271.79   438391.0          0     271.79           T   \n",
              "11     136793.0         0.00   234086.0          0       0.00           R   \n",
              "12     396830.0         0.00   396830.0     116923       0.00           R   \n",
              "13    1108222.0         0.00  1108222.0      93585       0.00           R   \n",
              "14      51684.0         0.00    55184.0     399665       0.00           R   \n",
              "15      37823.0         0.00       41.0     149313       0.00           R   \n",
              "16      60975.0         0.00    80975.0     187103       0.00           R   \n",
              "17          0.0         0.00        0.0          0       0.00           P   \n",
              "18          0.0         0.00        0.0          0       0.00           P   \n",
              "19    1498860.0         0.00  1498860.0          0       0.00           R   \n",
              "\n",
              "    target  \n",
              "0        0  \n",
              "1        0  \n",
              "2        0  \n",
              "3        0  \n",
              "4        0  \n",
              "5        0  \n",
              "6        0  \n",
              "7        0  \n",
              "8        1  \n",
              "9        0  \n",
              "10       0  \n",
              "11       0  \n",
              "12       0  \n",
              "13       0  \n",
              "14       0  \n",
              "15       0  \n",
              "16       0  \n",
              "17       0  \n",
              "18       0  \n",
              "19       1  \n",
              "\n",
              "[20 rows x 574 columns]"
            ],
            "text/html": [
              "\n",
              "  <div id=\"df-b2dd0364-5e2d-41fd-b775-cf9cb9b5d59f\" class=\"colab-df-container\">\n",
              "    <div>\n",
              "<style scoped>\n",
              "    .dataframe tbody tr th:only-of-type {\n",
              "        vertical-align: middle;\n",
              "    }\n",
              "\n",
              "    .dataframe tbody tr th {\n",
              "        vertical-align: top;\n",
              "    }\n",
              "\n",
              "    .dataframe thead th {\n",
              "        text-align: right;\n",
              "    }\n",
              "</style>\n",
              "<table border=\"1\" class=\"dataframe\">\n",
              "  <thead>\n",
              "    <tr style=\"text-align: right;\">\n",
              "      <th></th>\n",
              "      <th>Id</th>\n",
              "      <th>Subsegmento</th>\n",
              "      <th>Sexo</th>\n",
              "      <th>Region</th>\n",
              "      <th>Edad</th>\n",
              "      <th>Renta</th>\n",
              "      <th>Antiguedad</th>\n",
              "      <th>Internauta</th>\n",
              "      <th>Adicional</th>\n",
              "      <th>Dualidad</th>\n",
              "      <th>...</th>\n",
              "      <th>ColMx_T01</th>\n",
              "      <th>PagoNac_T01</th>\n",
              "      <th>PagoInt_T01</th>\n",
              "      <th>EeccNac_T01</th>\n",
              "      <th>EeccInt_T01</th>\n",
              "      <th>UsoL1_T01</th>\n",
              "      <th>UsoL2_T01</th>\n",
              "      <th>UsoLI_T01</th>\n",
              "      <th>IndRev_T01</th>\n",
              "      <th>target</th>\n",
              "    </tr>\n",
              "  </thead>\n",
              "  <tbody>\n",
              "    <tr>\n",
              "      <th>0</th>\n",
              "      <td>1</td>\n",
              "      <td>160</td>\n",
              "      <td>M</td>\n",
              "      <td>13.0</td>\n",
              "      <td>43</td>\n",
              "      <td>NaN</td>\n",
              "      <td>130</td>\n",
              "      <td>1</td>\n",
              "      <td>1</td>\n",
              "      <td>0</td>\n",
              "      <td>...</td>\n",
              "      <td>0.00</td>\n",
              "      <td>33000</td>\n",
              "      <td>0.0</td>\n",
              "      <td>1099866.0</td>\n",
              "      <td>0.00</td>\n",
              "      <td>1099866.0</td>\n",
              "      <td>15080</td>\n",
              "      <td>0.00</td>\n",
              "      <td>R</td>\n",
              "      <td>0</td>\n",
              "    </tr>\n",
              "    <tr>\n",
              "      <th>1</th>\n",
              "      <td>2</td>\n",
              "      <td>160</td>\n",
              "      <td>H</td>\n",
              "      <td>13.0</td>\n",
              "      <td>46</td>\n",
              "      <td>143640.0</td>\n",
              "      <td>69</td>\n",
              "      <td>1</td>\n",
              "      <td>0</td>\n",
              "      <td>0</td>\n",
              "      <td>...</td>\n",
              "      <td>0.00</td>\n",
              "      <td>300000</td>\n",
              "      <td>0.0</td>\n",
              "      <td>214592.0</td>\n",
              "      <td>0.00</td>\n",
              "      <td>214592.0</td>\n",
              "      <td>83596</td>\n",
              "      <td>0.00</td>\n",
              "      <td>R</td>\n",
              "      <td>0</td>\n",
              "    </tr>\n",
              "    <tr>\n",
              "      <th>2</th>\n",
              "      <td>3</td>\n",
              "      <td>170</td>\n",
              "      <td>H</td>\n",
              "      <td>13.0</td>\n",
              "      <td>45</td>\n",
              "      <td>929106.0</td>\n",
              "      <td>24</td>\n",
              "      <td>1</td>\n",
              "      <td>1</td>\n",
              "      <td>0</td>\n",
              "      <td>...</td>\n",
              "      <td>0.00</td>\n",
              "      <td>216676</td>\n",
              "      <td>0.0</td>\n",
              "      <td>0.0</td>\n",
              "      <td>0.00</td>\n",
              "      <td>7400.0</td>\n",
              "      <td>0</td>\n",
              "      <td>0.00</td>\n",
              "      <td>T</td>\n",
              "      <td>0</td>\n",
              "    </tr>\n",
              "    <tr>\n",
              "      <th>3</th>\n",
              "      <td>4</td>\n",
              "      <td>151</td>\n",
              "      <td>H</td>\n",
              "      <td>13.0</td>\n",
              "      <td>46</td>\n",
              "      <td>172447.0</td>\n",
              "      <td>134</td>\n",
              "      <td>0</td>\n",
              "      <td>1</td>\n",
              "      <td>0</td>\n",
              "      <td>...</td>\n",
              "      <td>0.00</td>\n",
              "      <td>60000</td>\n",
              "      <td>0.0</td>\n",
              "      <td>272762.0</td>\n",
              "      <td>0.00</td>\n",
              "      <td>272762.0</td>\n",
              "      <td>10591</td>\n",
              "      <td>0.00</td>\n",
              "      <td>R</td>\n",
              "      <td>0</td>\n",
              "    </tr>\n",
              "    <tr>\n",
              "      <th>4</th>\n",
              "      <td>5</td>\n",
              "      <td>170</td>\n",
              "      <td>H</td>\n",
              "      <td>13.0</td>\n",
              "      <td>46</td>\n",
              "      <td>805250.0</td>\n",
              "      <td>116</td>\n",
              "      <td>0</td>\n",
              "      <td>1</td>\n",
              "      <td>1</td>\n",
              "      <td>...</td>\n",
              "      <td>0.00</td>\n",
              "      <td>272925</td>\n",
              "      <td>0.0</td>\n",
              "      <td>249562.0</td>\n",
              "      <td>0.00</td>\n",
              "      <td>75339.0</td>\n",
              "      <td>377782</td>\n",
              "      <td>0.00</td>\n",
              "      <td>R</td>\n",
              "      <td>0</td>\n",
              "    </tr>\n",
              "    <tr>\n",
              "      <th>5</th>\n",
              "      <td>6</td>\n",
              "      <td>170</td>\n",
              "      <td>H</td>\n",
              "      <td>13.0</td>\n",
              "      <td>47</td>\n",
              "      <td>707664.0</td>\n",
              "      <td>67</td>\n",
              "      <td>1</td>\n",
              "      <td>1</td>\n",
              "      <td>0</td>\n",
              "      <td>...</td>\n",
              "      <td>0.00</td>\n",
              "      <td>35800</td>\n",
              "      <td>0.0</td>\n",
              "      <td>35800.0</td>\n",
              "      <td>0.00</td>\n",
              "      <td>0.0</td>\n",
              "      <td>51197</td>\n",
              "      <td>0.00</td>\n",
              "      <td>R</td>\n",
              "      <td>0</td>\n",
              "    </tr>\n",
              "    <tr>\n",
              "      <th>6</th>\n",
              "      <td>7</td>\n",
              "      <td>811</td>\n",
              "      <td>H</td>\n",
              "      <td>13.0</td>\n",
              "      <td>48</td>\n",
              "      <td>1022833.0</td>\n",
              "      <td>21</td>\n",
              "      <td>1</td>\n",
              "      <td>0</td>\n",
              "      <td>1</td>\n",
              "      <td>...</td>\n",
              "      <td>0.00</td>\n",
              "      <td>9391</td>\n",
              "      <td>0.0</td>\n",
              "      <td>8818.0</td>\n",
              "      <td>0.00</td>\n",
              "      <td>8818.0</td>\n",
              "      <td>0</td>\n",
              "      <td>0.00</td>\n",
              "      <td>T</td>\n",
              "      <td>0</td>\n",
              "    </tr>\n",
              "    <tr>\n",
              "      <th>7</th>\n",
              "      <td>8</td>\n",
              "      <td>170</td>\n",
              "      <td>H</td>\n",
              "      <td>13.0</td>\n",
              "      <td>46</td>\n",
              "      <td>NaN</td>\n",
              "      <td>69</td>\n",
              "      <td>0</td>\n",
              "      <td>1</td>\n",
              "      <td>1</td>\n",
              "      <td>...</td>\n",
              "      <td>0.00</td>\n",
              "      <td>6000</td>\n",
              "      <td>0.0</td>\n",
              "      <td>283520.0</td>\n",
              "      <td>0.00</td>\n",
              "      <td>283520.0</td>\n",
              "      <td>0</td>\n",
              "      <td>0.00</td>\n",
              "      <td>R</td>\n",
              "      <td>0</td>\n",
              "    </tr>\n",
              "    <tr>\n",
              "      <th>8</th>\n",
              "      <td>9</td>\n",
              "      <td>170</td>\n",
              "      <td>H</td>\n",
              "      <td>13.0</td>\n",
              "      <td>49</td>\n",
              "      <td>1171066.0</td>\n",
              "      <td>33</td>\n",
              "      <td>0</td>\n",
              "      <td>0</td>\n",
              "      <td>0</td>\n",
              "      <td>...</td>\n",
              "      <td>0.00</td>\n",
              "      <td>60000</td>\n",
              "      <td>0.0</td>\n",
              "      <td>507629.0</td>\n",
              "      <td>0.00</td>\n",
              "      <td>507629.0</td>\n",
              "      <td>0</td>\n",
              "      <td>0.00</td>\n",
              "      <td>R</td>\n",
              "      <td>1</td>\n",
              "    </tr>\n",
              "    <tr>\n",
              "      <th>9</th>\n",
              "      <td>10</td>\n",
              "      <td>170</td>\n",
              "      <td>M</td>\n",
              "      <td>13.0</td>\n",
              "      <td>44</td>\n",
              "      <td>964387.0</td>\n",
              "      <td>23</td>\n",
              "      <td>1</td>\n",
              "      <td>1</td>\n",
              "      <td>0</td>\n",
              "      <td>...</td>\n",
              "      <td>0.00</td>\n",
              "      <td>92583</td>\n",
              "      <td>0.0</td>\n",
              "      <td>65487.0</td>\n",
              "      <td>0.00</td>\n",
              "      <td>65487.0</td>\n",
              "      <td>12084</td>\n",
              "      <td>0.00</td>\n",
              "      <td>R</td>\n",
              "      <td>0</td>\n",
              "    </tr>\n",
              "    <tr>\n",
              "      <th>10</th>\n",
              "      <td>11</td>\n",
              "      <td>170</td>\n",
              "      <td>M</td>\n",
              "      <td>13.0</td>\n",
              "      <td>38</td>\n",
              "      <td>NaN</td>\n",
              "      <td>38</td>\n",
              "      <td>0</td>\n",
              "      <td>0</td>\n",
              "      <td>0</td>\n",
              "      <td>...</td>\n",
              "      <td>143358.35</td>\n",
              "      <td>0</td>\n",
              "      <td>0.0</td>\n",
              "      <td>438391.0</td>\n",
              "      <td>271.79</td>\n",
              "      <td>438391.0</td>\n",
              "      <td>0</td>\n",
              "      <td>271.79</td>\n",
              "      <td>T</td>\n",
              "      <td>0</td>\n",
              "    </tr>\n",
              "    <tr>\n",
              "      <th>11</th>\n",
              "      <td>12</td>\n",
              "      <td>151</td>\n",
              "      <td>M</td>\n",
              "      <td>9.0</td>\n",
              "      <td>47</td>\n",
              "      <td>NaN</td>\n",
              "      <td>59</td>\n",
              "      <td>1</td>\n",
              "      <td>0</td>\n",
              "      <td>0</td>\n",
              "      <td>...</td>\n",
              "      <td>0.00</td>\n",
              "      <td>0</td>\n",
              "      <td>0.0</td>\n",
              "      <td>136793.0</td>\n",
              "      <td>0.00</td>\n",
              "      <td>234086.0</td>\n",
              "      <td>0</td>\n",
              "      <td>0.00</td>\n",
              "      <td>R</td>\n",
              "      <td>0</td>\n",
              "    </tr>\n",
              "    <tr>\n",
              "      <th>12</th>\n",
              "      <td>13</td>\n",
              "      <td>170</td>\n",
              "      <td>H</td>\n",
              "      <td>13.0</td>\n",
              "      <td>36</td>\n",
              "      <td>1263238.0</td>\n",
              "      <td>80</td>\n",
              "      <td>1</td>\n",
              "      <td>0</td>\n",
              "      <td>0</td>\n",
              "      <td>...</td>\n",
              "      <td>0.00</td>\n",
              "      <td>139884</td>\n",
              "      <td>0.0</td>\n",
              "      <td>396830.0</td>\n",
              "      <td>0.00</td>\n",
              "      <td>396830.0</td>\n",
              "      <td>116923</td>\n",
              "      <td>0.00</td>\n",
              "      <td>R</td>\n",
              "      <td>0</td>\n",
              "    </tr>\n",
              "    <tr>\n",
              "      <th>13</th>\n",
              "      <td>14</td>\n",
              "      <td>170</td>\n",
              "      <td>M</td>\n",
              "      <td>10.0</td>\n",
              "      <td>33</td>\n",
              "      <td>1456715.0</td>\n",
              "      <td>29</td>\n",
              "      <td>0</td>\n",
              "      <td>0</td>\n",
              "      <td>0</td>\n",
              "      <td>...</td>\n",
              "      <td>0.00</td>\n",
              "      <td>0</td>\n",
              "      <td>0.0</td>\n",
              "      <td>1108222.0</td>\n",
              "      <td>0.00</td>\n",
              "      <td>1108222.0</td>\n",
              "      <td>93585</td>\n",
              "      <td>0.00</td>\n",
              "      <td>R</td>\n",
              "      <td>0</td>\n",
              "    </tr>\n",
              "    <tr>\n",
              "      <th>14</th>\n",
              "      <td>15</td>\n",
              "      <td>160</td>\n",
              "      <td>H</td>\n",
              "      <td>13.0</td>\n",
              "      <td>48</td>\n",
              "      <td>592541.0</td>\n",
              "      <td>13</td>\n",
              "      <td>0</td>\n",
              "      <td>0</td>\n",
              "      <td>0</td>\n",
              "      <td>...</td>\n",
              "      <td>0.00</td>\n",
              "      <td>28000</td>\n",
              "      <td>0.0</td>\n",
              "      <td>51684.0</td>\n",
              "      <td>0.00</td>\n",
              "      <td>55184.0</td>\n",
              "      <td>399665</td>\n",
              "      <td>0.00</td>\n",
              "      <td>R</td>\n",
              "      <td>0</td>\n",
              "    </tr>\n",
              "    <tr>\n",
              "      <th>15</th>\n",
              "      <td>16</td>\n",
              "      <td>170</td>\n",
              "      <td>H</td>\n",
              "      <td>13.0</td>\n",
              "      <td>46</td>\n",
              "      <td>NaN</td>\n",
              "      <td>7</td>\n",
              "      <td>1</td>\n",
              "      <td>0</td>\n",
              "      <td>1</td>\n",
              "      <td>...</td>\n",
              "      <td>0.00</td>\n",
              "      <td>37782</td>\n",
              "      <td>0.0</td>\n",
              "      <td>37823.0</td>\n",
              "      <td>0.00</td>\n",
              "      <td>41.0</td>\n",
              "      <td>149313</td>\n",
              "      <td>0.00</td>\n",
              "      <td>R</td>\n",
              "      <td>0</td>\n",
              "    </tr>\n",
              "    <tr>\n",
              "      <th>16</th>\n",
              "      <td>17</td>\n",
              "      <td>170</td>\n",
              "      <td>M</td>\n",
              "      <td>13.0</td>\n",
              "      <td>51</td>\n",
              "      <td>752396.0</td>\n",
              "      <td>22</td>\n",
              "      <td>1</td>\n",
              "      <td>0</td>\n",
              "      <td>1</td>\n",
              "      <td>...</td>\n",
              "      <td>0.00</td>\n",
              "      <td>96367</td>\n",
              "      <td>0.0</td>\n",
              "      <td>60975.0</td>\n",
              "      <td>0.00</td>\n",
              "      <td>80975.0</td>\n",
              "      <td>187103</td>\n",
              "      <td>0.00</td>\n",
              "      <td>R</td>\n",
              "      <td>0</td>\n",
              "    </tr>\n",
              "    <tr>\n",
              "      <th>17</th>\n",
              "      <td>18</td>\n",
              "      <td>170</td>\n",
              "      <td>H</td>\n",
              "      <td>13.0</td>\n",
              "      <td>37</td>\n",
              "      <td>844830.0</td>\n",
              "      <td>72</td>\n",
              "      <td>1</td>\n",
              "      <td>0</td>\n",
              "      <td>0</td>\n",
              "      <td>...</td>\n",
              "      <td>0.00</td>\n",
              "      <td>0</td>\n",
              "      <td>0.0</td>\n",
              "      <td>0.0</td>\n",
              "      <td>0.00</td>\n",
              "      <td>0.0</td>\n",
              "      <td>0</td>\n",
              "      <td>0.00</td>\n",
              "      <td>P</td>\n",
              "      <td>0</td>\n",
              "    </tr>\n",
              "    <tr>\n",
              "      <th>18</th>\n",
              "      <td>19</td>\n",
              "      <td>170</td>\n",
              "      <td>M</td>\n",
              "      <td>13.0</td>\n",
              "      <td>47</td>\n",
              "      <td>176712.0</td>\n",
              "      <td>94</td>\n",
              "      <td>1</td>\n",
              "      <td>0</td>\n",
              "      <td>0</td>\n",
              "      <td>...</td>\n",
              "      <td>0.00</td>\n",
              "      <td>0</td>\n",
              "      <td>0.0</td>\n",
              "      <td>0.0</td>\n",
              "      <td>0.00</td>\n",
              "      <td>0.0</td>\n",
              "      <td>0</td>\n",
              "      <td>0.00</td>\n",
              "      <td>P</td>\n",
              "      <td>0</td>\n",
              "    </tr>\n",
              "    <tr>\n",
              "      <th>19</th>\n",
              "      <td>20</td>\n",
              "      <td>160</td>\n",
              "      <td>M</td>\n",
              "      <td>8.0</td>\n",
              "      <td>46</td>\n",
              "      <td>210298.0</td>\n",
              "      <td>43</td>\n",
              "      <td>0</td>\n",
              "      <td>1</td>\n",
              "      <td>1</td>\n",
              "      <td>...</td>\n",
              "      <td>0.00</td>\n",
              "      <td>46000</td>\n",
              "      <td>0.0</td>\n",
              "      <td>1498860.0</td>\n",
              "      <td>0.00</td>\n",
              "      <td>1498860.0</td>\n",
              "      <td>0</td>\n",
              "      <td>0.00</td>\n",
              "      <td>R</td>\n",
              "      <td>1</td>\n",
              "    </tr>\n",
              "  </tbody>\n",
              "</table>\n",
              "<p>20 rows × 574 columns</p>\n",
              "</div>\n",
              "    <div class=\"colab-df-buttons\">\n",
              "\n",
              "  <div class=\"colab-df-container\">\n",
              "    <button class=\"colab-df-convert\" onclick=\"convertToInteractive('df-b2dd0364-5e2d-41fd-b775-cf9cb9b5d59f')\"\n",
              "            title=\"Convert this dataframe to an interactive table.\"\n",
              "            style=\"display:none;\">\n",
              "\n",
              "  <svg xmlns=\"http://www.w3.org/2000/svg\" height=\"24px\" viewBox=\"0 -960 960 960\">\n",
              "    <path d=\"M120-120v-720h720v720H120Zm60-500h600v-160H180v160Zm220 220h160v-160H400v160Zm0 220h160v-160H400v160ZM180-400h160v-160H180v160Zm440 0h160v-160H620v160ZM180-180h160v-160H180v160Zm440 0h160v-160H620v160Z\"/>\n",
              "  </svg>\n",
              "    </button>\n",
              "\n",
              "  <style>\n",
              "    .colab-df-container {\n",
              "      display:flex;\n",
              "      gap: 12px;\n",
              "    }\n",
              "\n",
              "    .colab-df-convert {\n",
              "      background-color: #E8F0FE;\n",
              "      border: none;\n",
              "      border-radius: 50%;\n",
              "      cursor: pointer;\n",
              "      display: none;\n",
              "      fill: #1967D2;\n",
              "      height: 32px;\n",
              "      padding: 0 0 0 0;\n",
              "      width: 32px;\n",
              "    }\n",
              "\n",
              "    .colab-df-convert:hover {\n",
              "      background-color: #E2EBFA;\n",
              "      box-shadow: 0px 1px 2px rgba(60, 64, 67, 0.3), 0px 1px 3px 1px rgba(60, 64, 67, 0.15);\n",
              "      fill: #174EA6;\n",
              "    }\n",
              "\n",
              "    .colab-df-buttons div {\n",
              "      margin-bottom: 4px;\n",
              "    }\n",
              "\n",
              "    [theme=dark] .colab-df-convert {\n",
              "      background-color: #3B4455;\n",
              "      fill: #D2E3FC;\n",
              "    }\n",
              "\n",
              "    [theme=dark] .colab-df-convert:hover {\n",
              "      background-color: #434B5C;\n",
              "      box-shadow: 0px 1px 3px 1px rgba(0, 0, 0, 0.15);\n",
              "      filter: drop-shadow(0px 1px 2px rgba(0, 0, 0, 0.3));\n",
              "      fill: #FFFFFF;\n",
              "    }\n",
              "  </style>\n",
              "\n",
              "    <script>\n",
              "      const buttonEl =\n",
              "        document.querySelector('#df-b2dd0364-5e2d-41fd-b775-cf9cb9b5d59f button.colab-df-convert');\n",
              "      buttonEl.style.display =\n",
              "        google.colab.kernel.accessAllowed ? 'block' : 'none';\n",
              "\n",
              "      async function convertToInteractive(key) {\n",
              "        const element = document.querySelector('#df-b2dd0364-5e2d-41fd-b775-cf9cb9b5d59f');\n",
              "        const dataTable =\n",
              "          await google.colab.kernel.invokeFunction('convertToInteractive',\n",
              "                                                    [key], {});\n",
              "        if (!dataTable) return;\n",
              "\n",
              "        const docLinkHtml = 'Like what you see? Visit the ' +\n",
              "          '<a target=\"_blank\" href=https://colab.research.google.com/notebooks/data_table.ipynb>data table notebook</a>'\n",
              "          + ' to learn more about interactive tables.';\n",
              "        element.innerHTML = '';\n",
              "        dataTable['output_type'] = 'display_data';\n",
              "        await google.colab.output.renderOutput(dataTable, element);\n",
              "        const docLink = document.createElement('div');\n",
              "        docLink.innerHTML = docLinkHtml;\n",
              "        element.appendChild(docLink);\n",
              "      }\n",
              "    </script>\n",
              "  </div>\n",
              "\n",
              "\n",
              "    <div id=\"df-bfc5b4c0-3960-42d0-971f-f0ffec565488\">\n",
              "      <button class=\"colab-df-quickchart\" onclick=\"quickchart('df-bfc5b4c0-3960-42d0-971f-f0ffec565488')\"\n",
              "                title=\"Suggest charts\"\n",
              "                style=\"display:none;\">\n",
              "\n",
              "<svg xmlns=\"http://www.w3.org/2000/svg\" height=\"24px\"viewBox=\"0 0 24 24\"\n",
              "     width=\"24px\">\n",
              "    <g>\n",
              "        <path d=\"M19 3H5c-1.1 0-2 .9-2 2v14c0 1.1.9 2 2 2h14c1.1 0 2-.9 2-2V5c0-1.1-.9-2-2-2zM9 17H7v-7h2v7zm4 0h-2V7h2v10zm4 0h-2v-4h2v4z\"/>\n",
              "    </g>\n",
              "</svg>\n",
              "      </button>\n",
              "\n",
              "<style>\n",
              "  .colab-df-quickchart {\n",
              "      --bg-color: #E8F0FE;\n",
              "      --fill-color: #1967D2;\n",
              "      --hover-bg-color: #E2EBFA;\n",
              "      --hover-fill-color: #174EA6;\n",
              "      --disabled-fill-color: #AAA;\n",
              "      --disabled-bg-color: #DDD;\n",
              "  }\n",
              "\n",
              "  [theme=dark] .colab-df-quickchart {\n",
              "      --bg-color: #3B4455;\n",
              "      --fill-color: #D2E3FC;\n",
              "      --hover-bg-color: #434B5C;\n",
              "      --hover-fill-color: #FFFFFF;\n",
              "      --disabled-bg-color: #3B4455;\n",
              "      --disabled-fill-color: #666;\n",
              "  }\n",
              "\n",
              "  .colab-df-quickchart {\n",
              "    background-color: var(--bg-color);\n",
              "    border: none;\n",
              "    border-radius: 50%;\n",
              "    cursor: pointer;\n",
              "    display: none;\n",
              "    fill: var(--fill-color);\n",
              "    height: 32px;\n",
              "    padding: 0;\n",
              "    width: 32px;\n",
              "  }\n",
              "\n",
              "  .colab-df-quickchart:hover {\n",
              "    background-color: var(--hover-bg-color);\n",
              "    box-shadow: 0 1px 2px rgba(60, 64, 67, 0.3), 0 1px 3px 1px rgba(60, 64, 67, 0.15);\n",
              "    fill: var(--button-hover-fill-color);\n",
              "  }\n",
              "\n",
              "  .colab-df-quickchart-complete:disabled,\n",
              "  .colab-df-quickchart-complete:disabled:hover {\n",
              "    background-color: var(--disabled-bg-color);\n",
              "    fill: var(--disabled-fill-color);\n",
              "    box-shadow: none;\n",
              "  }\n",
              "\n",
              "  .colab-df-spinner {\n",
              "    border: 2px solid var(--fill-color);\n",
              "    border-color: transparent;\n",
              "    border-bottom-color: var(--fill-color);\n",
              "    animation:\n",
              "      spin 1s steps(1) infinite;\n",
              "  }\n",
              "\n",
              "  @keyframes spin {\n",
              "    0% {\n",
              "      border-color: transparent;\n",
              "      border-bottom-color: var(--fill-color);\n",
              "      border-left-color: var(--fill-color);\n",
              "    }\n",
              "    20% {\n",
              "      border-color: transparent;\n",
              "      border-left-color: var(--fill-color);\n",
              "      border-top-color: var(--fill-color);\n",
              "    }\n",
              "    30% {\n",
              "      border-color: transparent;\n",
              "      border-left-color: var(--fill-color);\n",
              "      border-top-color: var(--fill-color);\n",
              "      border-right-color: var(--fill-color);\n",
              "    }\n",
              "    40% {\n",
              "      border-color: transparent;\n",
              "      border-right-color: var(--fill-color);\n",
              "      border-top-color: var(--fill-color);\n",
              "    }\n",
              "    60% {\n",
              "      border-color: transparent;\n",
              "      border-right-color: var(--fill-color);\n",
              "    }\n",
              "    80% {\n",
              "      border-color: transparent;\n",
              "      border-right-color: var(--fill-color);\n",
              "      border-bottom-color: var(--fill-color);\n",
              "    }\n",
              "    90% {\n",
              "      border-color: transparent;\n",
              "      border-bottom-color: var(--fill-color);\n",
              "    }\n",
              "  }\n",
              "</style>\n",
              "\n",
              "      <script>\n",
              "        async function quickchart(key) {\n",
              "          const quickchartButtonEl =\n",
              "            document.querySelector('#' + key + ' button');\n",
              "          quickchartButtonEl.disabled = true;  // To prevent multiple clicks.\n",
              "          quickchartButtonEl.classList.add('colab-df-spinner');\n",
              "          try {\n",
              "            const charts = await google.colab.kernel.invokeFunction(\n",
              "                'suggestCharts', [key], {});\n",
              "          } catch (error) {\n",
              "            console.error('Error during call to suggestCharts:', error);\n",
              "          }\n",
              "          quickchartButtonEl.classList.remove('colab-df-spinner');\n",
              "          quickchartButtonEl.classList.add('colab-df-quickchart-complete');\n",
              "        }\n",
              "        (() => {\n",
              "          let quickchartButtonEl =\n",
              "            document.querySelector('#df-bfc5b4c0-3960-42d0-971f-f0ffec565488 button');\n",
              "          quickchartButtonEl.style.display =\n",
              "            google.colab.kernel.accessAllowed ? 'block' : 'none';\n",
              "        })();\n",
              "      </script>\n",
              "    </div>\n",
              "\n",
              "    </div>\n",
              "  </div>\n"
            ],
            "application/vnd.google.colaboratory.intrinsic+json": {
              "type": "dataframe",
              "variable_name": "data"
            }
          },
          "metadata": {},
          "execution_count": 315
        }
      ]
    },
    {
      "cell_type": "markdown",
      "source": [
        "# Fase 0 - Cargar de los datos"
      ],
      "metadata": {
        "id": "CBvxpncspu4f"
      }
    },
    {
      "cell_type": "markdown",
      "source": [
        "# Fase 3 - Preparación de los datos"
      ],
      "metadata": {
        "id": "oEMpd2q-pnbP"
      }
    },
    {
      "cell_type": "code",
      "source": [
        "print(data['Fac_T12'].isnull().sum())"
      ],
      "metadata": {
        "colab": {
          "base_uri": "https://localhost:8080/"
        },
        "id": "diDynwot94ui",
        "outputId": "89b00b76-754e-4673-8cbf-a5fec0da0bd2"
      },
      "execution_count": 316,
      "outputs": [
        {
          "output_type": "stream",
          "name": "stdout",
          "text": [
            "8251\n"
          ]
        }
      ]
    },
    {
      "cell_type": "code",
      "source": [
        "# Variables seleccionadas para el modelo de regresión\n",
        "selected_features_reg = ['FacCN_T12', 'Txs_T12', 'ColL1T0_T12', 'FacCCPC_T12']\n",
        "\n",
        "# Verificar si hay valores nulos en las variables seleccionadas\n",
        "print(\"Conteo de valores nulos en las variables seleccionadas:\")\n",
        "print(data[selected_features_reg].isnull().sum())"
      ],
      "metadata": {
        "colab": {
          "base_uri": "https://localhost:8080/"
        },
        "id": "p5ZOZF_A3rim",
        "outputId": "17754023-62e0-4b42-ac8a-2ecb508ad392"
      },
      "execution_count": 317,
      "outputs": [
        {
          "output_type": "stream",
          "name": "stdout",
          "text": [
            "Conteo de valores nulos en las variables seleccionadas:\n",
            "FacCN_T12      8251\n",
            "Txs_T12        8251\n",
            "ColL1T0_T12    8251\n",
            "FacCCPC_T12    8251\n",
            "dtype: int64\n"
          ]
        }
      ]
    },
    {
      "cell_type": "code",
      "source": [
        "# Define la lista de variables seleccionadas para clasificación\n",
        "features_clasificacion_final = ['ColL1TE_T05', 'ColL1TE_T02', 'ColL1TE_T04', 'ColL1TE_T03']\n",
        "\n",
        "print(\"\\nConteo de valores nulos en las variables de clasificación seleccionadas:\")\n",
        "print(data[features_clasificacion_final].isnull().sum())"
      ],
      "metadata": {
        "colab": {
          "base_uri": "https://localhost:8080/"
        },
        "id": "ckTxyyA9afKv",
        "outputId": "faca5626-d0f5-4831-c509-ff74f7b42e36"
      },
      "execution_count": 318,
      "outputs": [
        {
          "output_type": "stream",
          "name": "stdout",
          "text": [
            "\n",
            "Conteo de valores nulos en las variables de clasificación seleccionadas:\n",
            "ColL1TE_T05    25\n",
            "ColL1TE_T02    12\n",
            "ColL1TE_T04    19\n",
            "ColL1TE_T03    10\n",
            "dtype: int64\n"
          ]
        }
      ]
    },
    {
      "cell_type": "markdown",
      "source": [
        "## Tratamiento de nulos"
      ],
      "metadata": {
        "id": "1SBBlSk5p4Ws"
      }
    },
    {
      "cell_type": "code",
      "source": [
        "mean_Fac_T12 = data['Fac_T12'].mean()\n",
        "data['Fac_T12'].fillna(mean_Fac_T12, inplace=True)\n",
        "\n",
        "# Verificar si quedan nulos en Fac_T12\n",
        "print(\"\\nConteo de valores nulos después de imputar la media en Fac_T12:\")\n",
        "print(data['Fac_T12'].isnull().sum())"
      ],
      "metadata": {
        "colab": {
          "base_uri": "https://localhost:8080/"
        },
        "id": "dBKF5-5R9_ev",
        "outputId": "f9963d74-f00d-435f-d113-0616aa09487e"
      },
      "execution_count": 319,
      "outputs": [
        {
          "output_type": "stream",
          "name": "stdout",
          "text": [
            "\n",
            "Conteo de valores nulos después de imputar la media en Fac_T12:\n",
            "0\n"
          ]
        },
        {
          "output_type": "stream",
          "name": "stderr",
          "text": [
            "<ipython-input-319-1343785463>:2: FutureWarning: A value is trying to be set on a copy of a DataFrame or Series through chained assignment using an inplace method.\n",
            "The behavior will change in pandas 3.0. This inplace method will never work because the intermediate object on which we are setting values always behaves as a copy.\n",
            "\n",
            "For example, when doing 'df[col].method(value, inplace=True)', try using 'df.method({col: value}, inplace=True)' or df[col] = df[col].method(value) instead, to perform the operation inplace on the original object.\n",
            "\n",
            "\n",
            "  data['Fac_T12'].fillna(mean_Fac_T12, inplace=True)\n"
          ]
        }
      ]
    },
    {
      "cell_type": "code",
      "source": [
        "for col in selected_features_reg:\n",
        "    if data[col].isnull().any():\n",
        "        data[col].fillna(data[col].mean(), inplace=True)\n",
        "print(\"\\nConteo de valores nulos después de la imputación (media):\")\n",
        "print(data[selected_features_reg].isnull().sum())"
      ],
      "metadata": {
        "id": "cGVTT10ppuGL",
        "colab": {
          "base_uri": "https://localhost:8080/"
        },
        "outputId": "ece48e91-d9a5-4c67-c214-0b92f5d2244a"
      },
      "execution_count": 320,
      "outputs": [
        {
          "output_type": "stream",
          "name": "stdout",
          "text": [
            "\n",
            "Conteo de valores nulos después de la imputación (media):\n",
            "FacCN_T12      0\n",
            "Txs_T12        0\n",
            "ColL1T0_T12    0\n",
            "FacCCPC_T12    0\n",
            "dtype: int64\n"
          ]
        },
        {
          "output_type": "stream",
          "name": "stderr",
          "text": [
            "<ipython-input-320-2226142878>:3: FutureWarning: A value is trying to be set on a copy of a DataFrame or Series through chained assignment using an inplace method.\n",
            "The behavior will change in pandas 3.0. This inplace method will never work because the intermediate object on which we are setting values always behaves as a copy.\n",
            "\n",
            "For example, when doing 'df[col].method(value, inplace=True)', try using 'df.method({col: value}, inplace=True)' or df[col] = df[col].method(value) instead, to perform the operation inplace on the original object.\n",
            "\n",
            "\n",
            "  data[col].fillna(data[col].mean(), inplace=True)\n"
          ]
        }
      ]
    },
    {
      "cell_type": "code",
      "source": [
        "for col in features_clasificacion_final:\n",
        "    if data[col].isnull().any():\n",
        "        data[col].fillna(data[col].mean(), inplace=True)\n",
        "\n",
        "print(\"\\nConteo de valores nulos después de la imputación (media) en las variables de clasificación:\")\n",
        "print(data[features_clasificacion_final].isnull().sum())"
      ],
      "metadata": {
        "colab": {
          "base_uri": "https://localhost:8080/"
        },
        "id": "AxgbSdZcmQZJ",
        "outputId": "fb8548e8-8fe4-4525-83f6-888424344ccc"
      },
      "execution_count": 321,
      "outputs": [
        {
          "output_type": "stream",
          "name": "stdout",
          "text": [
            "\n",
            "Conteo de valores nulos después de la imputación (media) en las variables de clasificación:\n",
            "ColL1TE_T05    0\n",
            "ColL1TE_T02    0\n",
            "ColL1TE_T04    0\n",
            "ColL1TE_T03    0\n",
            "dtype: int64\n"
          ]
        },
        {
          "output_type": "stream",
          "name": "stderr",
          "text": [
            "<ipython-input-321-1826366464>:3: FutureWarning: A value is trying to be set on a copy of a DataFrame or Series through chained assignment using an inplace method.\n",
            "The behavior will change in pandas 3.0. This inplace method will never work because the intermediate object on which we are setting values always behaves as a copy.\n",
            "\n",
            "For example, when doing 'df[col].method(value, inplace=True)', try using 'df.method({col: value}, inplace=True)' or df[col] = df[col].method(value) instead, to perform the operation inplace on the original object.\n",
            "\n",
            "\n",
            "  data[col].fillna(data[col].mean(), inplace=True)\n"
          ]
        }
      ]
    },
    {
      "cell_type": "markdown",
      "source": [
        "## Transformación de variables"
      ],
      "metadata": {
        "id": "h6vCiiDtp7ca"
      }
    },
    {
      "cell_type": "code",
      "source": [
        "scaler = StandardScaler()\n",
        "\n",
        "data_scaled = data.copy()\n",
        "\n",
        "data_scaled[selected_features_reg] = scaler.fit_transform(data_scaled[selected_features_reg])\n",
        "\n",
        "print(\"\\nPrimeras filas de las variables seleccionadas después del escalado:\")\n",
        "print(data_scaled[selected_features_reg].head())"
      ],
      "metadata": {
        "id": "NX_Bpsl-qAHM",
        "colab": {
          "base_uri": "https://localhost:8080/"
        },
        "outputId": "7295e6c6-bd8f-4f70-e41b-746ea253274d"
      },
      "execution_count": 322,
      "outputs": [
        {
          "output_type": "stream",
          "name": "stdout",
          "text": [
            "\n",
            "Primeras filas de las variables seleccionadas después del escalado:\n",
            "   FacCN_T12   Txs_T12  ColL1T0_T12  FacCCPC_T12\n",
            "0  -0.013653  0.120431    -0.461804     0.106973\n",
            "1  -0.366365 -0.462556    -0.320073     0.005230\n",
            "2   0.663161  0.120431     1.294955    -0.326488\n",
            "3  -0.122599  0.120431    -0.178342     0.041678\n",
            "4   0.804287  0.994911     0.321630     1.393209\n"
          ]
        }
      ]
    },
    {
      "cell_type": "markdown",
      "source": [
        "# Fase 4 - Modelamiento"
      ],
      "metadata": {
        "id": "csBkkV3DQEGw"
      }
    },
    {
      "cell_type": "markdown",
      "source": [
        "## Modelos de regresión"
      ],
      "metadata": {
        "id": "6tTqYz9mQIlG"
      }
    },
    {
      "cell_type": "markdown",
      "source": [
        "### Definición de Variable objetivo"
      ],
      "metadata": {
        "id": "2IpfncS9QK2A"
      }
    },
    {
      "cell_type": "markdown",
      "source": [
        "# Variable: Fac_T12\n",
        "\n",
        "- Tipo de Variable: Numerica continua.\n",
        "\n",
        "- Descripción: La renta representa un indicador clave de la capacidad económica de un cliente lo que la convierte en una variable relevante para el banco. Predecirla puede resultar útil para estimar el potencial económico del cliente personalizar ofertas de productos financieros y evaluar riesgos crediticios."
      ],
      "metadata": {
        "id": "9SjDDqBzt9rb"
      }
    },
    {
      "cell_type": "code",
      "source": [
        "variable_objetivo_regresion = 'Fac_T12'"
      ],
      "metadata": {
        "id": "7-esPmpwScGH"
      },
      "execution_count": 323,
      "outputs": []
    },
    {
      "cell_type": "markdown",
      "source": [
        "### Distribución de variable objetivo"
      ],
      "metadata": {
        "id": "mXWjze60QR-J"
      }
    },
    {
      "cell_type": "code",
      "source": [
        "plt.figure(figsize=(10, 6))\n",
        "sns.histplot(data[variable_objetivo_regresion], kde=True, bins=50)\n",
        "plt.title('Distribución de la variable objetivo: Fac_T12')\n",
        "plt.xlabel('Fac_T12')\n",
        "plt.ylabel('Frecuencia')\n",
        "plt.show()\n",
        "\n",
        "print(f\"Estadísticas descriptivas de la variable objetivo:\\n{data[variable_objetivo_regresion].describe()}\")"
      ],
      "metadata": {
        "id": "YEfzhDMzSZbe",
        "colab": {
          "base_uri": "https://localhost:8080/",
          "height": 738
        },
        "outputId": "91791f45-0532-4aaa-a4bc-63854ca21f30"
      },
      "execution_count": 324,
      "outputs": [
        {
          "output_type": "display_data",
          "data": {
            "text/plain": [
              "<Figure size 1000x600 with 1 Axes>"
            ],
            "image/png": "[encoded data removed]"
          },
          "metadata": {}
        },
        {
          "output_type": "stream",
          "name": "stdout",
          "text": [
            "Estadísticas descriptivas de la variable objetivo:\n",
            "count    5.112400e+04\n",
            "mean     6.732317e+04\n",
            "std      1.143171e+05\n",
            "min     -4.800000e+05\n",
            "25%      0.000000e+00\n",
            "50%      4.227150e+04\n",
            "75%      6.864000e+04\n",
            "max      4.631741e+06\n",
            "Name: Fac_T12, dtype: float64\n"
          ]
        }
      ]
    },
    {
      "cell_type": "markdown",
      "source": [
        "La variable Fac_T12 presenta un total de 42,873 observaciones válidas. Su valor promedio se sitúa alrededor de 67,323, con una desviación estándar considerable de aproximadamente 124,834, lo que indica una dispersión significativa de los datos. El valor mínimo registrado es de -480,000, el cual podría ser un valor atípico o representar alguna particularidad del dato, mientras que el valor máximo alcanza aproximadamente 4,631,741. El 25% de los datos se encuentra por debajo de 0, la mediana (percentil 50%) es de aproximadamente 24,720, y el 75% de los datos es menor o igual a 84,941. Estos valores sugieren una distribución sesgada hacia la derecha, con una concentración de datos en valores más bajos y la presencia de algunos valores extremadamente altos."
      ],
      "metadata": {
        "id": "EIp8VNkR0IYy"
      }
    },
    {
      "cell_type": "markdown",
      "source": [
        "### Selección de variables independientes"
      ],
      "metadata": {
        "id": "JonsqcEXQc_y"
      }
    },
    {
      "cell_type": "code",
      "source": [
        "correlation_matrix_reg = data.corr(numeric_only=True)\n",
        "\n",
        "corrs_reg = correlation_matrix_reg[variable_objetivo_regresion].drop(variable_objetivo_regresion).sort_values(ascending=False)\n",
        "\n",
        "# Seleccionar las 10 variables con la correlación más fuerte (mayor valor absoluto)\n",
        "N_top_corrs = 10\n",
        "top_abs_corrs_reg = corrs_reg.abs().sort_values(ascending=False).head(N_top_corrs)\n",
        "top_corrs_signed_reg = corrs_reg.loc[top_abs_corrs_reg.index]\n",
        "\n",
        "# Visualizar las correlaciones principales\n",
        "plt.figure(figsize=(10, 6))\n",
        "sns.barplot(x=top_corrs_signed_reg.index, y=top_corrs_signed_reg.values, palette=\"coolwarm\")\n",
        "plt.title(f'{N_top_corrs} variables más fuertemente correlacionadas con {variable_objetivo_regresion}', fontsize=16, fontweight='bold')\n",
        "plt.ylabel('Correlación', fontsize=14, fontweight=\"bold\")\n",
        "plt.xlabel('Variables', fontsize=14, fontweight=\"bold\")\n",
        "plt.xticks(rotation=45, ha='right')\n",
        "plt.tight_layout()\n",
        "plt.show()\n",
        "\n",
        "# Imprimir las correlaciones principales\n",
        "print(f\"\\nLas {N_top_corrs} variables más fuertemente correlacionadas con '{variable_objetivo_regresion}':\")\n",
        "print(top_corrs_signed_reg)"
      ],
      "metadata": {
        "id": "mqG4U1hySYal",
        "colab": {
          "base_uri": "https://localhost:8080/",
          "height": 919
        },
        "outputId": "ac75293c-6143-4f15-b5e0-097db78ba1f6"
      },
      "execution_count": 325,
      "outputs": [
        {
          "output_type": "stream",
          "name": "stderr",
          "text": [
            "<ipython-input-325-3975853042>:12: FutureWarning: \n",
            "\n",
            "Passing `palette` without assigning `hue` is deprecated and will be removed in v0.14.0. Assign the `x` variable to `hue` and set `legend=False` for the same effect.\n",
            "\n",
            "  sns.barplot(x=top_corrs_signed_reg.index, y=top_corrs_signed_reg.values, palette=\"coolwarm\")\n"
          ]
        },
        {
          "output_type": "display_data",
          "data": {
            "text/plain": [
              "<Figure size 1000x600 with 1 Axes>"
            ],
            "image/png": "[encoded data removed]"
          },
          "metadata": {}
        },
        {
          "output_type": "stream",
          "name": "stdout",
          "text": [
            "\n",
            "Las 10 variables más fuertemente correlacionadas con 'Fac_T12':\n",
            "FacCN_T12       0.898025\n",
            "Txs_T12         0.547985\n",
            "ColL1T0_T12     0.544106\n",
            "FacCCPC_T12     0.529156\n",
            "TxsCN_T12       0.482180\n",
            "FlgAct_T12      0.387802\n",
            "ColL2T0_T12     0.386393\n",
            "FacCI_T12       0.381615\n",
            "FlgActCN_T12    0.380948\n",
            "ColL1T0_T11     0.369944\n",
            "Name: Fac_T12, dtype: float64\n"
          ]
        }
      ]
    },
    {
      "cell_type": "markdown",
      "source": [
        "las variables elegidas son FacCN_T12, Txs_T12, ColL1T0_T12 y FacCCPC_T12 debido a su alta correlación con la variable objetivo Fac_T12, siendo todas superiores a 0.5, destacando FacCN_T12 con un valor de 0.89."
      ],
      "metadata": {
        "id": "qCLaHo512qNL"
      }
    },
    {
      "cell_type": "markdown",
      "source": [
        "### Separación datos de entrenamiento y test"
      ],
      "metadata": {
        "id": "Wdx02zrXSRyS"
      }
    },
    {
      "cell_type": "code",
      "source": [
        "features_regresion = ['FacCN_T12', 'Txs_T12', 'ColL1T0_T12', 'FacCCPC_T12']\n",
        "\n",
        "X = data[features_regresion]\n",
        "y = data[variable_objetivo_regresion]\n",
        "\n",
        "X_train, X_test, y_train, y_test = train_test_split(X, y, test_size=0.2, random_state=42)\n",
        "\n",
        "print(f\"Tamaño del conjunto de entrenamiento (X_train): {X_train.shape}\")\n",
        "print(f\"Tamaño del conjunto de prueba (X_test): {X_test.shape}\")\n",
        "print(f\"Tamaño del conjunto de entrenamiento (y_train): {y_train.shape}\")\n",
        "print(f\"Tamaño del conjunto de prueba (y_test): {y_test.shape}\")"
      ],
      "metadata": {
        "id": "UUR7iKcNSP7T",
        "colab": {
          "base_uri": "https://localhost:8080/"
        },
        "outputId": "95b34f3a-49d1-4f6d-8d81-b6869b4e1a15"
      },
      "execution_count": 326,
      "outputs": [
        {
          "output_type": "stream",
          "name": "stdout",
          "text": [
            "Tamaño del conjunto de entrenamiento (X_train): (40899, 4)\n",
            "Tamaño del conjunto de prueba (X_test): (10225, 4)\n",
            "Tamaño del conjunto de entrenamiento (y_train): (40899,)\n",
            "Tamaño del conjunto de prueba (y_test): (10225,)\n"
          ]
        }
      ]
    },
    {
      "cell_type": "markdown",
      "source": [
        "### Algoritmo 1 - `Regresion Polinomial`"
      ],
      "metadata": {
        "id": "MsNhOTm3UCf5"
      }
    },
    {
      "cell_type": "markdown",
      "source": [
        "#### Creación del modelo"
      ],
      "metadata": {
        "id": "6-ioJZJPQn23"
      }
    },
    {
      "cell_type": "code",
      "source": [
        "grado_polinomio = 2\n",
        "\n",
        "poly_features = PolynomialFeatures(degree=grado_polinomio, include_bias=False)\n",
        "\n",
        "X_train_poly = poly_features.fit_transform(X_train)\n",
        "X_test_poly = poly_features.transform(X_test)\n",
        "\n",
        "# Crear el modelo de Regresión Lineal\n",
        "model_poly_reg = LinearRegression()\n",
        "\n",
        "print(\"Modelo de Regresión Polinomial creado (Basado en Linear Regression con características polinomiales).\")\n",
        "print(f\"Características originales en entrenamiento: {X_train.shape[1]}\")\n",
        "print(f\"Características transformadas en entrenamiento: {X_train_poly.shape[1]}\")"
      ],
      "metadata": {
        "id": "nr9G4vaxSIrz",
        "colab": {
          "base_uri": "https://localhost:8080/"
        },
        "outputId": "991cb71a-71f0-4014-a088-9af9f3111921"
      },
      "execution_count": 327,
      "outputs": [
        {
          "output_type": "stream",
          "name": "stdout",
          "text": [
            "Modelo de Regresión Polinomial creado (Basado en Linear Regression con características polinomiales).\n",
            "Características originales en entrenamiento: 4\n",
            "Características transformadas en entrenamiento: 14\n"
          ]
        }
      ]
    },
    {
      "cell_type": "markdown",
      "source": [
        "#### Entrenamiento del modelo"
      ],
      "metadata": {
        "id": "ppPDppAcQqVg"
      }
    },
    {
      "cell_type": "code",
      "source": [
        "model_poly_reg.fit(X_train_poly, y_train)\n",
        "\n",
        "print(\"El modelo de Regresión Polinomial ha sido entrenado con éxito.\")"
      ],
      "metadata": {
        "colab": {
          "base_uri": "https://localhost:8080/"
        },
        "id": "KQcLzY8g9keV",
        "outputId": "83f5a94b-d75d-4044-f4d7-c3a4de6070d5"
      },
      "execution_count": 328,
      "outputs": [
        {
          "output_type": "stream",
          "name": "stdout",
          "text": [
            "El modelo de Regresión Polinomial ha sido entrenado con éxito.\n"
          ]
        }
      ]
    },
    {
      "cell_type": "markdown",
      "source": [
        "#### Evaluación del modelo"
      ],
      "metadata": {
        "id": "ZDnDElKBQscX"
      }
    },
    {
      "cell_type": "code",
      "source": [
        "y_pred = model_poly_reg.predict(X_test_poly)\n",
        "\n",
        "# Calcular métricas de evaluación\n",
        "mse = mean_squared_error(y_test, y_pred)\n",
        "rmse = np.sqrt(mse)\n",
        "r2 = r2_score(y_test, y_pred)\n",
        "\n",
        "print(f\"Error Cuadrático Medio (MSE): {mse:.2f}\")\n",
        "print(f\"Raíz del Error Cuadrático Medio (RMSE): {rmse:.2f}\")\n",
        "print(f\"Coeficiente de Determinación (R^2): {r2:.4f}\")\n",
        "\n",
        "# Visualización de resultados (Gráfico de Dispersión: Valores Reales vs. Predicciones)\n",
        "plt.figure(figsize=(10, 7))\n",
        "plt.scatter(y_test, y_pred, alpha=0.5)\n",
        "plt.title('Valores Reales vs. Predicciones del Modelo de Regresión Polinomial')\n",
        "plt.xlabel('Valores Reales de Fac_T12')\n",
        "plt.ylabel('Predicciones de Fac_T12')\n",
        "plt.grid(True)\n",
        "plt.plot([y_test.min(), y_test.max()], [y_test.min(), y_test.max()], 'k--', lw=2) # Línea diagonal perfecta\n",
        "plt.show()"
      ],
      "metadata": {
        "colab": {
          "base_uri": "https://localhost:8080/",
          "height": 694
        },
        "id": "bQw8je_Q_CCm",
        "outputId": "304b4e39-1015-495c-9228-07ecb8c5e46c"
      },
      "execution_count": 329,
      "outputs": [
        {
          "output_type": "stream",
          "name": "stdout",
          "text": [
            "Error Cuadrático Medio (MSE): 2450218643.84\n",
            "Raíz del Error Cuadrático Medio (RMSE): 49499.68\n",
            "Coeficiente de Determinación (R^2): 0.8244\n"
          ]
        },
        {
          "output_type": "display_data",
          "data": {
            "text/plain": [
              "<Figure size 1000x700 with 1 Axes>"
            ],
            "image/png": "[encoded data removed]"
          },
          "metadata": {}
        }
      ]
    },
    {
      "cell_type": "code",
      "source": [],
      "metadata": {
        "id": "aoG8DLA2SKn8"
      },
      "execution_count": 329,
      "outputs": []
    },
    {
      "cell_type": "markdown",
      "source": [
        "#### Cálculo e interpretación de métricas"
      ],
      "metadata": {
        "id": "n90GogEnQvB8"
      }
    },
    {
      "cell_type": "markdown",
      "source": [
        "##### R2"
      ],
      "metadata": {
        "id": "VICoxmLOR-mw"
      }
    },
    {
      "cell_type": "code",
      "source": [
        "r2_poly_reg = r2_score(y_test, y_pred_poly_reg)\n",
        "\n",
        "print(f\"Coeficiente de Determinación (R2) del modelo de Regresión Polinomial: {r2_poly_reg:.4f}\")"
      ],
      "metadata": {
        "id": "cFum9UpMSF8-",
        "colab": {
          "base_uri": "https://localhost:8080/"
        },
        "outputId": "6b95d383-cc3a-4d97-ec07-45098d9603bc"
      },
      "execution_count": 330,
      "outputs": [
        {
          "output_type": "stream",
          "name": "stdout",
          "text": [
            "Coeficiente de Determinación (R2) del modelo de Regresión Polinomial: 0.8244\n"
          ]
        }
      ]
    },
    {
      "cell_type": "markdown",
      "source": [
        "##### MAE"
      ],
      "metadata": {
        "id": "QM21ipT7SBK2"
      }
    },
    {
      "cell_type": "code",
      "source": [
        "mae_poly_reg = mean_absolute_error(y_test, y_pred_poly_reg)\n",
        "\n",
        "print(f\"Error Absoluto Medio (MAE) del modelo de Regresión Polinomial: {mae_poly_reg:.4f}\")"
      ],
      "metadata": {
        "id": "jpi7eaFgSDuE",
        "colab": {
          "base_uri": "https://localhost:8080/"
        },
        "outputId": "d3e5f437-8aea-4621-df8b-25e3b58a83de"
      },
      "execution_count": 331,
      "outputs": [
        {
          "output_type": "stream",
          "name": "stdout",
          "text": [
            "Error Absoluto Medio (MAE) del modelo de Regresión Polinomial: 13741.4665\n"
          ]
        }
      ]
    },
    {
      "cell_type": "markdown",
      "source": [
        "###Interpretacion\n",
        "\n",
        "Un R² de 0.8244 indica que el modelo logra captar adecuadamente las tendencias generales del conjunto de datos. Sin embargo, el MAE aproximado de 13.741,47 revela que las predicciones individuales presentan, en promedio, una desviación considerable respecto a los valores reales."
      ],
      "metadata": {
        "id": "LSx9SeGhAjrR"
      }
    },
    {
      "cell_type": "markdown",
      "source": [
        "### Algoritmo 2 - `DecisionTreeRegressor`"
      ],
      "metadata": {
        "id": "p76NFUlDUUK9"
      }
    },
    {
      "cell_type": "markdown",
      "source": [
        "#### Creación del modelo"
      ],
      "metadata": {
        "id": "R_2akT_cmh2R"
      }
    },
    {
      "cell_type": "code",
      "source": [
        "model_dt_reg = DecisionTreeRegressor(random_state=42) # Usar un random_state para reproducibilidad\n",
        "\n",
        "print(\"Modelo de DecisionTreeRegressor creado.\")"
      ],
      "metadata": {
        "id": "ZAcM9KQmqCw_",
        "colab": {
          "base_uri": "https://localhost:8080/"
        },
        "outputId": "d6f4991c-fe3f-4979-9beb-93559615cf16"
      },
      "execution_count": 332,
      "outputs": [
        {
          "output_type": "stream",
          "name": "stdout",
          "text": [
            "Modelo de DecisionTreeRegressor creado.\n"
          ]
        }
      ]
    },
    {
      "cell_type": "markdown",
      "source": [
        "#### Entrenamiento del modelo"
      ],
      "metadata": {
        "id": "7gXpZBSjmkhP"
      }
    },
    {
      "cell_type": "code",
      "source": [
        "model_dt_reg.fit(X_train, y_train)\n",
        "\n",
        "print(\"Modelo de DecisionTreeRegressor entrenado.\")"
      ],
      "metadata": {
        "colab": {
          "base_uri": "https://localhost:8080/"
        },
        "id": "lcvA4zlaBous",
        "outputId": "8be6e94a-bf0a-401d-ade4-ae45de460b77"
      },
      "execution_count": 333,
      "outputs": [
        {
          "output_type": "stream",
          "name": "stdout",
          "text": [
            "Modelo de DecisionTreeRegressor entrenado.\n"
          ]
        }
      ]
    },
    {
      "cell_type": "markdown",
      "source": [
        "#### Evaluación del modelo"
      ],
      "metadata": {
        "id": "hKHqJARtmmwR"
      }
    },
    {
      "cell_type": "markdown",
      "source": [
        "#### Cálculo e interpretación de métricas"
      ],
      "metadata": {
        "id": "hcAAnhKimrBt"
      }
    },
    {
      "cell_type": "markdown",
      "source": [
        "##### R2"
      ],
      "metadata": {
        "id": "8jKMT-Urmu1u"
      }
    },
    {
      "cell_type": "code",
      "source": [
        "r2_dt_reg = r2_score(y_test, y_pred_dt_reg)\n",
        "\n",
        "print(f\"Coeficiente de Determinación (R2) del modelo de DecisionTreeRegressor: {r2_dt_reg:.4f}\")"
      ],
      "metadata": {
        "id": "Y-1ejZCtqFfr",
        "colab": {
          "base_uri": "https://localhost:8080/"
        },
        "outputId": "2e4fa412-73db-47bc-cd2c-8d76a18f456b"
      },
      "execution_count": 334,
      "outputs": [
        {
          "output_type": "stream",
          "name": "stdout",
          "text": [
            "Coeficiente de Determinación (R2) del modelo de DecisionTreeRegressor: 0.7756\n"
          ]
        }
      ]
    },
    {
      "cell_type": "markdown",
      "source": [
        "##### MAE"
      ],
      "metadata": {
        "id": "Xc_HdLwlmwTT"
      }
    },
    {
      "cell_type": "code",
      "source": [
        "mae_dt_reg = mean_absolute_error(y_test, y_pred_dt_reg)\n",
        "\n",
        "print(f\"Error Absoluto Medio (MAE) del modelo de DecisionTreeRegressor: {mae_dt_reg:.4f}\")"
      ],
      "metadata": {
        "id": "1QXWEkejqGoL",
        "colab": {
          "base_uri": "https://localhost:8080/"
        },
        "outputId": "43c2715e-6b4e-41b9-a08c-2b64b5b4900c"
      },
      "execution_count": 335,
      "outputs": [
        {
          "output_type": "stream",
          "name": "stdout",
          "text": [
            "Error Absoluto Medio (MAE) del modelo de DecisionTreeRegressor: 10525.5975\n"
          ]
        }
      ]
    },
    {
      "cell_type": "markdown",
      "source": [
        "### Comparación de los modelos"
      ],
      "metadata": {
        "id": "WTVF_iXjmyTb"
      }
    },
    {
      "cell_type": "markdown",
      "source": [
        "Resumen de comparación entre modelos de regresión:\n",
        "\n",
        "R²: La Regresión Polinomial tiene un mejor desempeño explicativo (R² = 0.8244) que el DecisionTreeRegressor (R² = 0.7756), indicando que captura mejor la variabilidad de la variable objetivo Fac_T12.\n",
        "\n",
        "MAE: El DecisionTreeRegressor tiene un menor error absoluto medio (MAE ≈ 10.525,60 vs. 13.741,47), lo que significa que sus predicciones individuales son, en promedio, más precisas.\n",
        "\n",
        "Conclusión:\n",
        "Si se prioriza la precisión de las predicciones individuales, el DecisionTreeRegressor es más adecuado. Si el objetivo es explicar mejor la variabilidad de los datos, conviene usar la Regresión Polinomial. La elección depende del enfoque del análisis."
      ],
      "metadata": {
        "id": "7dgHQS6sCC_T"
      }
    },
    {
      "cell_type": "markdown",
      "source": [
        "## Modelo de clasificación"
      ],
      "metadata": {
        "id": "jD3JLRbhQXZv"
      }
    },
    {
      "cell_type": "code",
      "source": [
        "variable_objetivo_clasificacion = 'target'"
      ],
      "metadata": {
        "id": "3k-IRk6GDKpV"
      },
      "execution_count": 336,
      "outputs": []
    },
    {
      "cell_type": "markdown",
      "source": [
        "### Distribución de variable objetivo"
      ],
      "metadata": {
        "id": "y_VY0z5aQZpK"
      }
    },
    {
      "cell_type": "code",
      "source": [
        "# prompt: necesito la distribucion de la variable objetivo\n",
        "\n",
        "plt.figure(figsize=(8, 6))\n",
        "sns.countplot(x=data[variable_objetivo_clasificacion])\n",
        "plt.title(f'Distribución de la variable objetivo: {variable_objetivo_clasificacion}')\n",
        "plt.xlabel(variable_objetivo_clasificacion)\n",
        "plt.ylabel('Conteo')\n",
        "plt.show()\n",
        "\n",
        "print(f\"Estadísticas descriptivas de la variable objetivo:\\n{data[variable_objetivo_clasificacion].value_counts()}\")\n",
        "print(f\"\\nPorcentaje de cada clase:\\n{data[variable_objetivo_clasificacion].value_counts(normalize=True) * 100}\")"
      ],
      "metadata": {
        "colab": {
          "base_uri": "https://localhost:8080/",
          "height": 756
        },
        "id": "ZEMnX1lcDMW0",
        "outputId": "750fbed9-992a-405a-8780-b41284fe97a4"
      },
      "execution_count": 337,
      "outputs": [
        {
          "output_type": "display_data",
          "data": {
            "text/plain": [
              "<Figure size 800x600 with 1 Axes>"
            ],
            "image/png": "[encoded data removed]"
          },
          "metadata": {}
        },
        {
          "output_type": "stream",
          "name": "stdout",
          "text": [
            "Estadísticas descriptivas de la variable objetivo:\n",
            "target\n",
            "0    46524\n",
            "1     4600\n",
            "Name: count, dtype: int64\n",
            "\n",
            "Porcentaje de cada clase:\n",
            "target\n",
            "0    91.002269\n",
            "1     8.997731\n",
            "Name: proportion, dtype: float64\n"
          ]
        }
      ]
    },
    {
      "cell_type": "markdown",
      "source": [
        "### Selección de variables independientes"
      ],
      "metadata": {
        "id": "ocp7OL6WQj6f"
      }
    },
    {
      "cell_type": "code",
      "source": [
        "correlation_matrix_clf = data.corr(numeric_only=True)\n",
        "\n",
        "# Changed the target variable and the variable holding the correlations\n",
        "corrs_clf = correlation_matrix_clf[variable_objetivo_clasificacion].drop(variable_objetivo_clasificacion).sort_values(ascending=False)\n",
        "\n",
        "# Seleccionar las 10 variables con la correlación más fuerte (mayor valor absoluto)\n",
        "N_top_corrs_clf = 10  # Using a different variable name for clarity\n",
        "top_abs_corrs_clf = corrs_clf.abs().sort_values(ascending=False).head(N_top_corrs_clf)\n",
        "top_corrs_signed_clf = corrs_clf.loc[top_abs_corrs_clf.index]\n",
        "\n",
        "# Visualizar las correlaciones principales\n",
        "plt.figure(figsize=(10, 6))\n",
        "# Changed the variables used in the barplot and the title\n",
        "sns.barplot(x=top_corrs_signed_clf.index, y=top_corrs_signed_clf.values, palette=\"coolwarm\")\n",
        "plt.title(f'{N_top_corrs_clf} variables más fuertemente correlacionadas con {variable_objetivo_clasificacion}', fontsize=16, fontweight='bold')\n",
        "plt.ylabel('Correlación', fontsize=14, fontweight=\"bold\")\n",
        "plt.xlabel('Variables', fontsize=14, fontweight=\"bold\")\n",
        "plt.xticks(rotation=45, ha='right')\n",
        "plt.tight_layout()\n",
        "plt.show()\n",
        "\n",
        "# Imprimir las correlaciones principales\n",
        "# Changed the variable name in the print statement\n",
        "print(f\"\\nLas {N_top_corrs_clf} variables más fuertemente correlacionadas con '{variable_objetivo_clasificacion}':\")\n",
        "print(top_corrs_signed_clf)"
      ],
      "metadata": {
        "colab": {
          "base_uri": "https://localhost:8080/",
          "height": 919
        },
        "id": "WI0miK5ERNC8",
        "outputId": "f23ceac9-e9d9-4b5e-96ec-2622c01a3602"
      },
      "execution_count": 338,
      "outputs": [
        {
          "output_type": "stream",
          "name": "stderr",
          "text": [
            "<ipython-input-338-2601711772>:14: FutureWarning: \n",
            "\n",
            "Passing `palette` without assigning `hue` is deprecated and will be removed in v0.14.0. Assign the `x` variable to `hue` and set `legend=False` for the same effect.\n",
            "\n",
            "  sns.barplot(x=top_corrs_signed_clf.index, y=top_corrs_signed_clf.values, palette=\"coolwarm\")\n"
          ]
        },
        {
          "output_type": "display_data",
          "data": {
            "text/plain": [
              "<Figure size 1000x600 with 1 Axes>"
            ],
            "image/png": "[encoded data removed]"
          },
          "metadata": {}
        },
        {
          "output_type": "stream",
          "name": "stdout",
          "text": [
            "\n",
            "Las 10 variables más fuertemente correlacionadas con 'target':\n",
            "FlgActCN_T02   -0.259991\n",
            "FlgActCN_T03   -0.254062\n",
            "FlgActCN_T01   -0.249027\n",
            "FlgActCN_T04   -0.222971\n",
            "ColL1TE_T04     0.203513\n",
            "ColL1TE_T03     0.201649\n",
            "ColL1TE_T05     0.198838\n",
            "ColL1TE_T02     0.198271\n",
            "FlgAct_T02     -0.197917\n",
            "FlgAct_T03     -0.192885\n",
            "Name: target, dtype: float64\n"
          ]
        }
      ]
    },
    {
      "cell_type": "code",
      "source": [
        "features_clasificacion_candidatas = top_corrs_signed_clf.index.tolist()\n",
        "\n",
        "X_candidatas = data[features_clasificacion_candidatas]\n",
        "y = data[variable_objetivo_clasificacion]\n",
        "\n",
        "# Divide los datos (opcional, pero recomendado para una evaluación más robusta)\n",
        "X_train_candidatas, X_test_candidatas, y_train, y_test = train_test_split(X_candidatas, y, test_size=0.2, random_state=42)\n",
        "\n",
        "# Crea un modelo para evaluar la importancia de las características\n",
        "# RandomForestClassifier es una buena opción para esto\n",
        "model_importance = RandomForestClassifier(n_estimators=100, random_state=42)\n",
        "\n",
        "# Entrena el modelo\n",
        "model_importance.fit(X_train_candidatas, y_train)\n",
        "\n",
        "# Obtén la importancia de las características\n",
        "feature_importances = pd.Series(model_importance.feature_importances_, index=features_clasificacion_candidatas)\n",
        "\n",
        "# Ordena las características por importancia\n",
        "sorted_feature_importances = feature_importances.sort_values(ascending=False)\n",
        "\n",
        "# Visualiza la importancia de las características\n",
        "plt.figure(figsize=(10, 6))\n",
        "sorted_feature_importances.plot(kind='bar')\n",
        "plt.title('Importancia de las Características (RandomForestClassifier)')\n",
        "plt.ylabel('Importancia')\n",
        "plt.xlabel('Características')\n",
        "plt.xticks(rotation=45, ha='right')\n",
        "plt.tight_layout()\n",
        "plt.show()"
      ],
      "metadata": {
        "colab": {
          "base_uri": "https://localhost:8080/",
          "height": 607
        },
        "id": "ptLTZohEYbG2",
        "outputId": "0a0bc5d7-446a-4698-c73a-3c43b03da01b"
      },
      "execution_count": 339,
      "outputs": [
        {
          "output_type": "display_data",
          "data": {
            "text/plain": [
              "<Figure size 1000x600 with 1 Axes>"
            ],
            "image/png": "[encoded data removed]"
          },
          "metadata": {}
        }
      ]
    },
    {
      "cell_type": "markdown",
      "source": [
        "A partir de los gráficos de correlación, se identificaron cuatro variables con mayor relación respecto a la variable objetivo \"target\": ColL1TE\\_T05, ColL1TE\\_T02, ColL1TE\\_T04 y ColL1TE\\_T03, las cuales presentan las correlaciones más altas dentro del conjunto de datos."
      ],
      "metadata": {
        "id": "8FnDRpETZSWX"
      }
    },
    {
      "cell_type": "markdown",
      "source": [
        "### Algoritmo 1 - DecisionTreeClassifier"
      ],
      "metadata": {
        "id": "cIVkLt5kUy16"
      }
    },
    {
      "cell_type": "markdown",
      "source": [
        "#### Creación del modelo"
      ],
      "metadata": {
        "id": "1w5Q-hyJQzR7"
      }
    },
    {
      "cell_type": "code",
      "source": [
        "X_clasificacion = data[features_clasificacion_final]\n",
        "y_clasificacion = data[variable_objetivo_clasificacion]\n",
        "\n",
        "# Divide los datos en conjuntos de entrenamiento y prueba\n",
        "X_train_clasificacion, X_test_clasificacion, y_train_clasificacion, y_test_clasificacion = train_test_split(\n",
        "    X_clasificacion, y_clasificacion, test_size=0.2, random_state=42, stratify=y_clasificacion\n",
        ")\n",
        "\n",
        "# Crea el modelo DecisionTreeClassifier\n",
        "model_dt_clf = DecisionTreeClassifier(random_state=42)\n",
        "\n",
        "print(\"Modelo de DecisionTreeClassifier para clasificación creado.\")"
      ],
      "metadata": {
        "id": "CFzm3ZVJSzUW",
        "colab": {
          "base_uri": "https://localhost:8080/"
        },
        "outputId": "9ddc181e-d25b-4ce8-c441-77498b8d6248"
      },
      "execution_count": 340,
      "outputs": [
        {
          "output_type": "stream",
          "name": "stdout",
          "text": [
            "Modelo de DecisionTreeClassifier para clasificación creado.\n"
          ]
        }
      ]
    },
    {
      "cell_type": "markdown",
      "source": [
        "#### Entrenamiento del modelo"
      ],
      "metadata": {
        "id": "hbHESfOnQ3VU"
      }
    },
    {
      "cell_type": "code",
      "source": [
        "model_dt_clf.fit(X_train_clasificacion, y_train_clasificacion)\n",
        "\n",
        "print(\"Modelo de DecisionTreeClassifier para clasificación entrenado.\")"
      ],
      "metadata": {
        "id": "ijfSVYg4Sz_1",
        "colab": {
          "base_uri": "https://localhost:8080/"
        },
        "outputId": "43e3bc86-8053-400f-b176-da3f8abcadf9"
      },
      "execution_count": 341,
      "outputs": [
        {
          "output_type": "stream",
          "name": "stdout",
          "text": [
            "Modelo de DecisionTreeClassifier para clasificación entrenado.\n"
          ]
        }
      ]
    },
    {
      "cell_type": "markdown",
      "source": [
        "#### Evaluación del modelo"
      ],
      "metadata": {
        "id": "LrdrO8R9Q78d"
      }
    },
    {
      "cell_type": "markdown",
      "source": [
        "#### Cálculo e interpretación de métricas"
      ],
      "metadata": {
        "id": "jyl20W66Q-G6"
      }
    },
    {
      "cell_type": "markdown",
      "source": [
        "##### Matriz de confusión"
      ],
      "metadata": {
        "id": "-PSeLGpTRBcz"
      }
    },
    {
      "cell_type": "code",
      "execution_count": 342,
      "metadata": {
        "id": "Kch-nPgtP7Tr",
        "colab": {
          "base_uri": "https://localhost:8080/",
          "height": 472
        },
        "outputId": "a371d2f7-5bd2-47cf-d568-0fd69713a8d3"
      },
      "outputs": [
        {
          "output_type": "display_data",
          "data": {
            "text/plain": [
              "<Figure size 640x480 with 2 Axes>"
            ],
            "image/png": "[encoded data removed]"
          },
          "metadata": {}
        }
      ],
      "source": [
        "y_pred_clasificacion = model_dt_clf.predict(X_test_clasificacion)\n",
        "\n",
        "# Obtener los nombres de las clases desde el modelo (si están disponibles)\n",
        "# O puedes definirlos manualmente si conoces tus clases\n",
        "class_names = model_dt_clf.classes_\n",
        "\n",
        "# Calcular la matriz de confusión\n",
        "cm = confusion_matrix(y_test_clasificacion, y_pred_clasificacion, labels=class_names)\n",
        "\n",
        "# Mostrar la matriz de confusión con etiquetas de nombre\n",
        "disp = ConfusionMatrixDisplay(confusion_matrix=cm, display_labels=class_names)\n",
        "disp.plot(cmap=plt.cm.Blues) # Puedes cambiar el colormap si prefieres\n",
        "plt.title('Matriz de Confusión para DecisionTreeClassifier')\n",
        "plt.show()"
      ]
    },
    {
      "cell_type": "code",
      "source": [
        "if len(class_names) == 2:\n",
        "    positive_class_index = 1 if class_names[0] < class_names[1] else 0\n",
        "\n",
        "    tn, fp, fn, tp = cm.ravel()\n",
        "\n",
        "    print(f\"Resultados de la Matriz de Confusión:\")\n",
        "    print(f\"Verdaderos Positivos (TP): {tp}\")\n",
        "    print(f\"Verdaderos Negativos (TN): {tn}\")\n",
        "    print(f\"Falsos Positivos (FP): {fp}\")\n",
        "    print(f\"Falsos Negativos (FN): {fn}\")"
      ],
      "metadata": {
        "colab": {
          "base_uri": "https://localhost:8080/"
        },
        "id": "OG7qxmWZdvfh",
        "outputId": "3d8f2324-4ff3-4be7-f62f-329bfb22e9b2"
      },
      "execution_count": 343,
      "outputs": [
        {
          "output_type": "stream",
          "name": "stdout",
          "text": [
            "Resultados de la Matriz de Confusión:\n",
            "Verdaderos Positivos (TP): 195\n",
            "Verdaderos Negativos (TN): 8573\n",
            "Falsos Positivos (FP): 732\n",
            "Falsos Negativos (FN): 725\n"
          ]
        }
      ]
    },
    {
      "cell_type": "markdown",
      "source": [
        "##### Accuracy"
      ],
      "metadata": {
        "id": "MbvEymrNRHng"
      }
    },
    {
      "cell_type": "code",
      "source": [
        "y_pred_clasificacion = model_dt_clf.predict(X_test_clasificacion)\n",
        "\n",
        "# Calcular el accuracy\n",
        "accuracy = accuracy_score(y_test_clasificacion, y_pred_clasificacion)\n",
        "\n",
        "print(f\"Accuracy del modelo DecisionTreeClassifier: {accuracy:.4f}\")"
      ],
      "metadata": {
        "id": "wsuXzgEARJik",
        "colab": {
          "base_uri": "https://localhost:8080/"
        },
        "outputId": "298d3f99-f709-4334-8595-9fdb03a168d7"
      },
      "execution_count": 344,
      "outputs": [
        {
          "output_type": "stream",
          "name": "stdout",
          "text": [
            "Accuracy del modelo DecisionTreeClassifier: 0.8575\n"
          ]
        }
      ]
    },
    {
      "cell_type": "markdown",
      "source": [
        "#### Aplicación de `CrossValidation`"
      ],
      "metadata": {
        "id": "kVwCQodJn2io"
      }
    },
    {
      "cell_type": "code",
      "source": [
        "n_splits = 5 # Puedes ajustar este número\n",
        "\n",
        "# Aplica validación cruzada al modelo\n",
        "# scoring='accuracy' especifica la métrica a calcular\n",
        "cv_scores = cross_val_score(model_dt_clf, X_clasificacion, y_clasificacion, cv=n_splits, scoring='accuracy')\n",
        "\n",
        "print(f\"Scores de Accuracy de la validación cruzada ({n_splits} folds): {cv_scores}\")\n",
        "print(f\"Media de los scores de Accuracy: {cv_scores.mean():.4f}\")\n",
        "print(f\"Desviación estándar de los scores de Accuracy: {cv_scores.std():.4f}\")"
      ],
      "metadata": {
        "id": "TtR-WjR_n7GZ",
        "colab": {
          "base_uri": "https://localhost:8080/"
        },
        "outputId": "7b642f98-d3ba-4966-d039-37e6d1f1faf2"
      },
      "execution_count": 345,
      "outputs": [
        {
          "output_type": "stream",
          "name": "stdout",
          "text": [
            "Scores de Accuracy de la validación cruzada (5 folds): [0.85251834 0.86141809 0.87696822 0.87090465 0.84624413]\n",
            "Media de los scores de Accuracy: 0.8616\n",
            "Desviación estándar de los scores de Accuracy: 0.0113\n"
          ]
        }
      ]
    },
    {
      "cell_type": "markdown",
      "source": [
        "#### Análisis de métricas usando `CrossValidation`"
      ],
      "metadata": {
        "id": "mRU1P9Zmn-9M"
      }
    },
    {
      "cell_type": "markdown",
      "source": [
        "Se aplicó validación cruzada con 5 folds al modelo DecisionTreeClassifier, obteniendo los siguientes valores de accuracy por iteración: (0.8527, 0.8608, 0.8753, 0.8709, 0.8451).\n",
        "\n",
        "El accuracy promedio fue de 0.8610, lo que indica que, en promedio, el modelo logra clasificar correctamente un 86.10% de los casos en datos no vistos. Este valor representa una estimación más fiable del desempeño del modelo en comparación con una sola partición de entrenamiento y prueba.\n",
        "\n",
        "La desviación estándar fue de 0.0112, lo que muestra que el modelo tiene un comportamiento estable en las distintas divisiones de los datos, sin grandes variaciones de rendimiento. Esto sugiere que el modelo generaliza bien y no depende excesivamente de cómo se dividen los datos."
      ],
      "metadata": {
        "id": "8KnONslFehaQ"
      }
    },
    {
      "cell_type": "markdown",
      "source": [
        "### Algoritmo 2 - SVM"
      ],
      "metadata": {
        "id": "mrzVrfKElbve"
      }
    },
    {
      "cell_type": "markdown",
      "source": [
        "#### Creación del modelo"
      ],
      "metadata": {
        "id": "zXgJ828jnO7c"
      }
    },
    {
      "cell_type": "code",
      "source": [
        "model_svm_clf = SVC(kernel='rbf', random_state=42)\n",
        "\n",
        "print(\"Modelo de Support Vector Classifier (SVM) creado.\")"
      ],
      "metadata": {
        "id": "XH1p6oY5nRbj",
        "colab": {
          "base_uri": "https://localhost:8080/"
        },
        "outputId": "94f13fd0-4568-4fb8-8b34-a609f542bd71"
      },
      "execution_count": 346,
      "outputs": [
        {
          "output_type": "stream",
          "name": "stdout",
          "text": [
            "Modelo de Support Vector Classifier (SVM) creado.\n"
          ]
        }
      ]
    },
    {
      "cell_type": "markdown",
      "source": [
        "#### Entrenamiento del modelo"
      ],
      "metadata": {
        "id": "HMaYQXx6nSyN"
      }
    },
    {
      "cell_type": "code",
      "source": [
        "model_svm_clf.fit(X_train_clasificacion, y_train_clasificacion)\n",
        "\n",
        "print(\"Modelo de Support Vector Classifier (SVM) entrenado.\")"
      ],
      "metadata": {
        "id": "Xv1EDoiEnYMz",
        "colab": {
          "base_uri": "https://localhost:8080/"
        },
        "outputId": "ba0261bf-fe17-44a7-b8c4-254e1b3e1114"
      },
      "execution_count": 347,
      "outputs": [
        {
          "output_type": "stream",
          "name": "stdout",
          "text": [
            "Modelo de Support Vector Classifier (SVM) entrenado.\n"
          ]
        }
      ]
    },
    {
      "cell_type": "markdown",
      "source": [
        "#### Evaluación del modelo"
      ],
      "metadata": {
        "id": "B1aS2n9pnYxZ"
      }
    },
    {
      "cell_type": "markdown",
      "source": [
        "#### Cálculo e interpretación de métricas"
      ],
      "metadata": {
        "id": "lBwxGgPCncYC"
      }
    },
    {
      "cell_type": "markdown",
      "source": [
        "##### Matriz de confusión"
      ],
      "metadata": {
        "id": "7VdaHtaont6r"
      }
    },
    {
      "cell_type": "code",
      "source": [
        "y_pred_svm_clasificacion = model_svm_clf.predict(X_test_clasificacion)\n",
        "\n",
        "# Obtener los nombres de las clases\n",
        "class_names = model_svm_clf.classes_\n",
        "\n",
        "# Calcular la matriz de confusión\n",
        "cm_svm = confusion_matrix(y_test_clasificacion, y_pred_svm_clasificacion, labels=class_names)\n",
        "\n",
        "# Mostrar la matriz de confusión con etiquetas de nombre\n",
        "disp_svm = ConfusionMatrixDisplay(confusion_matrix=cm_svm, display_labels=class_names)\n",
        "disp_svm.plot(cmap=plt.cm.Blues)\n",
        "plt.title('Matriz de Confusión para SVM Classifier')\n",
        "plt.show()"
      ],
      "metadata": {
        "id": "PGTbmYJ4qMLS",
        "colab": {
          "base_uri": "https://localhost:8080/",
          "height": 472
        },
        "outputId": "ca7494e7-fbc1-4ce1-d07f-911f3debafaa"
      },
      "execution_count": 360,
      "outputs": [
        {
          "output_type": "display_data",
          "data": {
            "text/plain": [
              "<Figure size 640x480 with 2 Axes>"
            ],
            "image/png": "[encoded data removed]"
          },
          "metadata": {}
        }
      ]
    },
    {
      "cell_type": "markdown",
      "source": [
        "##### Accuracy"
      ],
      "metadata": {
        "id": "HGf4jxExnxCw"
      }
    },
    {
      "cell_type": "code",
      "source": [
        "accuracy_svm = accuracy_score(y_test_clasificacion, y_pred_svm_clasificacion)\n",
        "\n",
        "print(f\"Accuracy del modelo SVM Classifier: {accuracy_svm:.4f}\")"
      ],
      "metadata": {
        "id": "DexrTjCYqNG6",
        "colab": {
          "base_uri": "https://localhost:8080/"
        },
        "outputId": "9a11c014-7bca-4040-b601-17a364b81ce7"
      },
      "execution_count": 361,
      "outputs": [
        {
          "output_type": "stream",
          "name": "stdout",
          "text": [
            "Accuracy del modelo SVM Classifier: 0.9099\n"
          ]
        }
      ]
    },
    {
      "cell_type": "markdown",
      "source": [
        "#### Aplicación de `CrossValidation`"
      ],
      "metadata": {
        "id": "nKPsto-RoMxy"
      }
    },
    {
      "cell_type": "code",
      "source": [
        "n_splits = 5\n",
        "\n",
        "cv_scores_svm = cross_val_score(model_svm_clf, X_clasificacion, y_clasificacion, cv=n_splits, scoring='accuracy')\n",
        "\n",
        "print(f\"Scores de Accuracy de la validación cruzada ({n_splits} folds) para SVM: {cv_scores_svm}\")\n",
        "print(f\"Media de los scores de Accuracy para SVM: {cv_scores_svm.mean():.4f}\")\n",
        "print(f\"Desviación estándar de los scores de Accuracy para SVM: {cv_scores_svm.std():.4f}\")"
      ],
      "metadata": {
        "id": "0US7KWsgqPVy",
        "colab": {
          "base_uri": "https://localhost:8080/"
        },
        "outputId": "ff0af7bd-6e3a-4f9a-872a-7c7cbaef7688"
      },
      "execution_count": 362,
      "outputs": [
        {
          "output_type": "stream",
          "name": "stdout",
          "text": [
            "Scores de Accuracy de la validación cruzada (5 folds) para SVM: [0.90963325 0.91002445 0.91002445 0.91002445 0.91001565]\n",
            "Media de los scores de Accuracy para SVM: 0.9099\n",
            "Desviación estándar de los scores de Accuracy para SVM: 0.0002\n"
          ]
        }
      ]
    },
    {
      "cell_type": "markdown",
      "source": [
        "#### Análisis de métricas usando `CrossValidation`"
      ],
      "metadata": {
        "id": "6aYCt8hWpOJG"
      }
    },
    {
      "cell_type": "markdown",
      "source": [
        "Se aplicó validación cruzada con 5 folds al modelo Support Vector Classifier (SVM), obteniéndose scores de accuracy muy consistentes: (0.9096, 0.9100, 0.9100, 0.9100, 0.9100).\n",
        "\n",
        "El accuracy promedio fue de 0.9099, lo que refleja una alta capacidad de generalización del modelo, con una tasa de clasificación correcta cercana al 91% en datos no vistos.\n",
        "\n",
        "Además, la desviación estándar fue de 0.0002, lo que indica un rendimiento altamente estable a través de las distintas particiones de validación. Esto demuestra que el modelo SVM mantiene un comportamiento consistente sin importar cómo se dividan los datos.\n",
        "\n",
        "\n",
        "\n",
        "\n",
        "\n",
        "\n",
        "\n",
        "\n",
        "\n"
      ],
      "metadata": {
        "id": "ea9tPsg0rEQj"
      }
    },
    {
      "cell_type": "markdown",
      "source": [
        "### Algoritmo 3 - KNN"
      ],
      "metadata": {
        "id": "X_ZRRr0nlgc7"
      }
    },
    {
      "cell_type": "markdown",
      "source": [
        "#### Creación del modelo"
      ],
      "metadata": {
        "id": "mZnnsSk6oybD"
      }
    },
    {
      "cell_type": "code",
      "source": [
        "model_knn_clf = KNeighborsClassifier(n_neighbors=5)\n",
        "\n",
        "print(\"Modelo de K-Nearest Neighbors (KNN) para clasificación creado.\")"
      ],
      "metadata": {
        "id": "aslPc_Kio1KA",
        "colab": {
          "base_uri": "https://localhost:8080/"
        },
        "outputId": "32c1237d-e5bd-429c-cc33-540600b003d6"
      },
      "execution_count": 365,
      "outputs": [
        {
          "output_type": "stream",
          "name": "stdout",
          "text": [
            "Modelo de K-Nearest Neighbors (KNN) para clasificación creado.\n"
          ]
        }
      ]
    },
    {
      "cell_type": "markdown",
      "source": [
        "#### Entrenamiento del modelo"
      ],
      "metadata": {
        "id": "PYsrwuCmoozD"
      }
    },
    {
      "cell_type": "code",
      "source": [
        "model_knn_clf.fit(X_train_clasificacion, y_train_clasificacion)\n",
        "\n",
        "print(\"Modelo de K-Nearest Neighbors (KNN) entrenado.\")"
      ],
      "metadata": {
        "id": "-Iss9TMNotF9",
        "colab": {
          "base_uri": "https://localhost:8080/"
        },
        "outputId": "7190fb24-87ad-47b6-f316-3c98eea5cae5"
      },
      "execution_count": 366,
      "outputs": [
        {
          "output_type": "stream",
          "name": "stdout",
          "text": [
            "Modelo de K-Nearest Neighbors (KNN) entrenado.\n"
          ]
        }
      ]
    },
    {
      "cell_type": "markdown",
      "source": [
        "#### Evaluación del modelo"
      ],
      "metadata": {
        "id": "SLo1r9IIokVo"
      }
    },
    {
      "cell_type": "markdown",
      "source": [
        "#### Cálculo e interpretación de métricas"
      ],
      "metadata": {
        "id": "uaobToDgoXkv"
      }
    },
    {
      "cell_type": "markdown",
      "source": [
        "##### Matriz de confusión"
      ],
      "metadata": {
        "id": "3VgvZi1doYtq"
      }
    },
    {
      "cell_type": "code",
      "source": [
        "y_pred_knn_clasificacion = model_knn_clf.predict(X_test_clasificacion)\n",
        "\n",
        "# Obtener los nombres de las clases\n",
        "class_names = model_knn_clf.classes_\n",
        "\n",
        "# Calcular la matriz de confusión\n",
        "cm_knn = confusion_matrix(y_test_clasificacion, y_pred_knn_clasificacion, labels=class_names)\n",
        "\n",
        "# Mostrar la matriz de confusión con etiquetas de nombre\n",
        "disp_knn = ConfusionMatrixDisplay(confusion_matrix=cm_knn, display_labels=class_names)\n",
        "disp_knn.plot(cmap=plt.cm.Blues)\n",
        "plt.title('Matriz de Confusión para KNN Classifier')\n",
        "plt.show()"
      ],
      "metadata": {
        "id": "qAwVCNlZobeC",
        "colab": {
          "base_uri": "https://localhost:8080/",
          "height": 472
        },
        "outputId": "12752cd0-6ada-4bb0-abe2-17c668be2ad0"
      },
      "execution_count": 368,
      "outputs": [
        {
          "output_type": "display_data",
          "data": {
            "text/plain": [
              "<Figure size 640x480 with 2 Axes>"
            ],
            "image/png": "[encoded data removed]"
          },
          "metadata": {}
        }
      ]
    },
    {
      "cell_type": "code",
      "source": [
        "print(f\"Resultados de la Matriz de Confusión:\")\n",
        "print(f\"Verdaderos Positivos (TP): {tp}\")\n",
        "print(f\"Verdaderos Negativos (TN): {tn}\")\n",
        "print(f\"Falsos Positivos (FP): {fp}\")\n",
        "print(f\"Falsos Negativos (FN): {fn}\")"
      ],
      "metadata": {
        "colab": {
          "base_uri": "https://localhost:8080/"
        },
        "id": "em8rPWdgr2zJ",
        "outputId": "a81b344c-24a6-45ad-a20f-6ce40d3cdcd8"
      },
      "execution_count": 372,
      "outputs": [
        {
          "output_type": "stream",
          "name": "stdout",
          "text": [
            "Resultados de la Matriz de Confusión:\n",
            "Verdaderos Positivos (TP): 195\n",
            "Verdaderos Negativos (TN): 8573\n",
            "Falsos Positivos (FP): 732\n",
            "Falsos Negativos (FN): 725\n"
          ]
        }
      ]
    },
    {
      "cell_type": "markdown",
      "source": [
        "##### Accuracy"
      ],
      "metadata": {
        "id": "hKmE07-Wob35"
      }
    },
    {
      "cell_type": "code",
      "source": [
        "accuracy_knn = accuracy_score(y_test_clasificacion, y_pred_knn_clasificacion)\n",
        "\n",
        "print(f\"Accuracy del modelo KNN Classifier: {accuracy_knn:.4f}\")"
      ],
      "metadata": {
        "id": "bY1hzq9eqTj-",
        "colab": {
          "base_uri": "https://localhost:8080/"
        },
        "outputId": "8a1c087f-2e2e-426c-910a-ea9f92dc5610"
      },
      "execution_count": 373,
      "outputs": [
        {
          "output_type": "stream",
          "name": "stdout",
          "text": [
            "Accuracy del modelo KNN Classifier: 0.8993\n"
          ]
        }
      ]
    },
    {
      "cell_type": "markdown",
      "source": [
        "#### Aplicación de `CrossValidation`"
      ],
      "metadata": {
        "id": "ahMcoalEoN2l"
      }
    },
    {
      "cell_type": "code",
      "source": [
        "n_splits = 5 # Número de folds\n",
        "scoring_metric = 'accuracy' # Métrica a evaluar\n",
        "\n",
        "cv_scores_knn = cross_val_score(model_knn_clf, X_clasificacion, y_clasificacion, cv=n_splits, scoring=scoring_metric)\n",
        "\n",
        "print(f\"Scores de {scoring_metric} de la validación cruzada ({n_splits} folds) para KNN: {cv_scores_knn}\")\n",
        "print(\"{0:<25} : {1:.4f}\".format(f\"Media de los scores de {scoring_metric}\", np.mean(cv_scores_knn)))\n",
        "print(\"{0:<25} : {1:.4f}\".format(f\"La desviacion estandar es\", np.std(cv_scores_knn) ))"
      ],
      "metadata": {
        "id": "rNcJxChyqUfQ",
        "colab": {
          "base_uri": "https://localhost:8080/"
        },
        "outputId": "61c104c8-a9c5-4110-e5ee-b7e3af3b928c"
      },
      "execution_count": 379,
      "outputs": [
        {
          "output_type": "stream",
          "name": "stdout",
          "text": [
            "Scores de accuracy de la validación cruzada (5 folds) para KNN: [0.89809291 0.8994621  0.90689487 0.90444988 0.88996479]\n",
            "Media de los scores de accuracy : 0.8998\n",
            "La desviacion estandar es : 0.0059\n"
          ]
        }
      ]
    },
    {
      "cell_type": "markdown",
      "source": [
        "#### Análisis de métricas usando `CrossValidation`"
      ],
      "metadata": {
        "id": "N61mogmuoR47"
      }
    },
    {
      "cell_type": "markdown",
      "source": [
        "Se aplicó validación cruzada con 5 folds al modelo K-Nearest Neighbors (KNN), obteniéndose los siguientes scores de accuracy por iteración: (0.8981, 0.8995, 0.9069, 0.9044, 0.8900).\n",
        "\n",
        "La media del accuracy fue de 0.8998, lo que indica que el modelo clasifica correctamente, en promedio, cerca del 90% de las instancias en datos no vistos, mostrando un buen desempeño general.\n",
        "\n",
        "La desviación estándar fue de 0.0059, lo que señala una variación moderadamente baja entre las particiones de los datos. Esto sugiere que el modelo KNN mantiene un rendimiento relativamente estable y consistente frente a diferentes divisiones del conjunto de entrenamiento y validación."
      ],
      "metadata": {
        "id": "uSAe1kFWttBI"
      }
    },
    {
      "cell_type": "markdown",
      "source": [
        "### Comparación de los modelos"
      ],
      "metadata": {
        "id": "ZGpc4H0Do-Bw"
      }
    },
    {
      "cell_type": "code",
      "source": [
        "mean_accuracy_dt = cv_scores.mean()\n",
        "mean_accuracy_svm = cv_scores_svm.mean()\n",
        "mean_accuracy_knn = cv_scores_knn.mean()\n",
        "\n",
        "# Encuentra el accuracy promedio más alto\n",
        "best_accuracy_cv = max(mean_accuracy_dt, mean_accuracy_svm, mean_accuracy_knn)\n",
        "\n",
        "# Determina qué modelo tiene el mejor accuracy promedio\n",
        "if best_accuracy_cv == mean_accuracy_dt:\n",
        "    best_model_cv = \"DecisionTreeClassifier\"\n",
        "elif best_accuracy_cv == mean_accuracy_svm:\n",
        "    best_model_cv = \"SVM\"\n",
        "else:\n",
        "    best_model_cv = \"KNN\"\n",
        "\n",
        "print(f\"\\nSegún el Accuracy promedio en la Validación Cruzada, el mejor modelo es el {best_model_cv}.\")"
      ],
      "metadata": {
        "id": "adHO-s4coTvP",
        "colab": {
          "base_uri": "https://localhost:8080/"
        },
        "outputId": "e7fd21f3-e3df-4c32-d1a3-292d5c7f8f12"
      },
      "execution_count": 386,
      "outputs": [
        {
          "output_type": "stream",
          "name": "stdout",
          "text": [
            "\n",
            "Según el Accuracy promedio en la Validación Cruzada, el mejor modelo es el SVM.\n"
          ]
        }
      ]
    }
  ]
}